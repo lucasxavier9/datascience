{
  "cells": [
    {
      "cell_type": "code",
      "execution_count": null,
      "metadata": {
        "colab": {
          "base_uri": "https://localhost:8080/"
        },
        "id": "M8s1Gunh8jD6",
        "outputId": "c496bbcb-ea12-45a3-fe91-d886f552ba96"
      },
      "outputs": [
        {
          "name": "stdout",
          "output_type": "stream",
          "text": [
            "Requirement already satisfied: matplotlib in /usr/local/lib/python3.11/dist-packages (3.10.0)\n",
            "Requirement already satisfied: contourpy>=1.0.1 in /usr/local/lib/python3.11/dist-packages (from matplotlib) (1.3.1)\n",
            "Requirement already satisfied: cycler>=0.10 in /usr/local/lib/python3.11/dist-packages (from matplotlib) (0.12.1)\n",
            "Requirement already satisfied: fonttools>=4.22.0 in /usr/local/lib/python3.11/dist-packages (from matplotlib) (4.57.0)\n",
            "Requirement already satisfied: kiwisolver>=1.3.1 in /usr/local/lib/python3.11/dist-packages (from matplotlib) (1.4.8)\n",
            "Requirement already satisfied: numpy>=1.23 in /usr/local/lib/python3.11/dist-packages (from matplotlib) (2.0.2)\n",
            "Requirement already satisfied: packaging>=20.0 in /usr/local/lib/python3.11/dist-packages (from matplotlib) (24.2)\n",
            "Requirement already satisfied: pillow>=8 in /usr/local/lib/python3.11/dist-packages (from matplotlib) (11.1.0)\n",
            "Requirement already satisfied: pyparsing>=2.3.1 in /usr/local/lib/python3.11/dist-packages (from matplotlib) (3.2.3)\n",
            "Requirement already satisfied: python-dateutil>=2.7 in /usr/local/lib/python3.11/dist-packages (from matplotlib) (2.8.2)\n",
            "Requirement already satisfied: six>=1.5 in /usr/local/lib/python3.11/dist-packages (from python-dateutil>=2.7->matplotlib) (1.17.0)\n"
          ]
        }
      ],
      "source": [
        "!pip install matplotlib"
      ]
    },
    {
      "cell_type": "code",
      "execution_count": null,
      "metadata": {
        "id": "wfsMLoQq88qk"
      },
      "outputs": [],
      "source": [
        "import matplotlib"
      ]
    },
    {
      "cell_type": "code",
      "execution_count": null,
      "metadata": {
        "colab": {
          "base_uri": "https://localhost:8080/",
          "height": 35
        },
        "id": "laP_5C_Y9i_d",
        "outputId": "943f2ce2-0093-4b00-989d-e961784212a6"
      },
      "outputs": [
        {
          "data": {
            "application/vnd.google.colaboratory.intrinsic+json": {
              "type": "string"
            },
            "text/plain": [
              "'3.10.0'"
            ]
          },
          "execution_count": 4,
          "metadata": {},
          "output_type": "execute_result"
        }
      ],
      "source": [
        "matplotlib.__version__"
      ]
    },
    {
      "cell_type": "code",
      "execution_count": null,
      "metadata": {
        "id": "aM5SeDjT2Xc1"
      },
      "outputs": [],
      "source": [
        "#importando uma  biblioteca com alias\n",
        "import matplotlib.pyplot as plt"
      ]
    },
    {
      "cell_type": "code",
      "execution_count": null,
      "metadata": {
        "id": "b8ya4rE_2gcv"
      },
      "outputs": [],
      "source": [
        "plt.show()"
      ]
    },
    {
      "cell_type": "code",
      "execution_count": null,
      "metadata": {
        "id": "3Zejmo1k4Z-u"
      },
      "outputs": [],
      "source": [
        "estudantes = [\"João\", \"Maria\", \"José\"]\n",
        "notas = [8.5, 9, 6.5]"
      ]
    },
    {
      "cell_type": "code",
      "execution_count": null,
      "metadata": {
        "colab": {
          "base_uri": "https://localhost:8080/",
          "height": 447
        },
        "id": "ChylJ2lQ4mVB",
        "outputId": "216145dc-00c9-4066-bd78-3755687b8574"
      },
      "outputs": [
        {
          "data": {
            "text/plain": [
              "<BarContainer object of 3 artists>"
            ]
          },
          "execution_count": 8,
          "metadata": {},
          "output_type": "execute_result"
        },
        {
          "data": {
            "image/png": "[encoded data removed]",
            "text/plain": [
              "<Figure size 640x480 with 1 Axes>"
            ]
          },
          "metadata": {},
          "output_type": "display_data"
        }
      ],
      "source": [
        "plt.bar(x = estudantes, height=notas)"
      ]
    },
    {
      "cell_type": "code",
      "execution_count": null,
      "metadata": {
        "id": "OxlJ6fBs48I1"
      },
      "outputs": [],
      "source": [
        "estudantes_2 = [\"joão\", \"maria\", \"josé\", \"ana\"]"
      ]
    },
    {
      "cell_type": "code",
      "execution_count": null,
      "metadata": {
        "id": "9P2jxSOb5C2Z"
      },
      "outputs": [],
      "source": [
        "#importanto função especifica de uma biblioteca\n",
        "#from nome_biblioteca import metodo\n",
        "from random import choice"
      ]
    },
    {
      "cell_type": "code",
      "execution_count": null,
      "metadata": {
        "colab": {
          "base_uri": "https://localhost:8080/"
        },
        "id": "ze0HWsoY5U4G",
        "outputId": "14b49126-2024-40f0-aa8a-1d8c885a4798"
      },
      "outputs": [
        {
          "name": "stdout",
          "output_type": "stream",
          "text": [
            "Help on method choice in module random:\n",
            "\n",
            "choice(seq) method of random.Random instance\n",
            "    Choose a random element from a non-empty sequence.\n",
            "\n"
          ]
        }
      ],
      "source": [
        "help(choice)"
      ]
    },
    {
      "cell_type": "code",
      "execution_count": null,
      "metadata": {
        "colab": {
          "base_uri": "https://localhost:8080/"
        },
        "id": "CjtdF7sM5bUO",
        "outputId": "47a2ae1d-c784-4bd4-8285-e43c2b713ba9"
      },
      "outputs": [
        {
          "name": "stdout",
          "output_type": "stream",
          "text": [
            "ana\n"
          ]
        }
      ],
      "source": [
        "#aplicando o choice (escolha) a uma lista e alocando em uma variavel\n",
        "estudante = choice(estudantes_2)\n",
        "print(estudante)"
      ]
    },
    {
      "cell_type": "code",
      "execution_count": 2,
      "metadata": {
        "id": "9hkepTz25n33"
      },
      "outputs": [
        {
          "ename": "ModuleNotFoundError",
          "evalue": "No module named 'numpy'",
          "output_type": "error",
          "traceback": [
            "\u001b[31m---------------------------------------------------------------------------\u001b[39m",
            "\u001b[31mModuleNotFoundError\u001b[39m                       Traceback (most recent call last)",
            "\u001b[36mCell\u001b[39m\u001b[36m \u001b[39m\u001b[32mIn[2]\u001b[39m\u001b[32m, line 2\u001b[39m\n\u001b[32m      1\u001b[39m \u001b[38;5;66;03m#desafio: importar numpy\u001b[39;00m\n\u001b[32m----> \u001b[39m\u001b[32m2\u001b[39m \u001b[38;5;28;01mimport\u001b[39;00m\u001b[38;5;250m \u001b[39m\u001b[34;01mnumpy\u001b[39;00m\u001b[38;5;250m \u001b[39m\u001b[38;5;28;01mas\u001b[39;00m\u001b[38;5;250m \u001b[39m\u001b[34;01mnp\u001b[39;00m\n",
            "\u001b[31mModuleNotFoundError\u001b[39m: No module named 'numpy'"
          ]
        }
      ],
      "source": [
        "#desafio: importar numpy\n",
        "import numpy as np"
      ]
    },
    {
      "cell_type": "code",
      "execution_count": 3,
      "metadata": {
        "colab": {
          "base_uri": "https://localhost:8080/"
        },
        "id": "fVCrL66S7aER",
        "outputId": "120df4f6-076a-4e26-e608-7f8e69ec89bd"
      },
      "outputs": [
        {
          "ename": "NameError",
          "evalue": "name 'choice' is not defined",
          "output_type": "error",
          "traceback": [
            "\u001b[31m---------------------------------------------------------------------------\u001b[39m",
            "\u001b[31mNameError\u001b[39m                                 Traceback (most recent call last)",
            "\u001b[36mCell\u001b[39m\u001b[36m \u001b[39m\u001b[32mIn[3]\u001b[39m\u001b[32m, line 5\u001b[39m\n\u001b[32m      2\u001b[39m \u001b[38;5;28;01mimport\u001b[39;00m\u001b[38;5;250m \u001b[39m\u001b[34;01mrandom\u001b[39;00m\n\u001b[32m      3\u001b[39m lista = [\u001b[32m8\u001b[39m, \u001b[32m12\u001b[39m, \u001b[32m54\u001b[39m, \u001b[32m23\u001b[39m, \u001b[32m43\u001b[39m, \u001b[32m1\u001b[39m, \u001b[32m90\u001b[39m, \u001b[32m87\u001b[39m, \u001b[32m105\u001b[39m, \u001b[32m77\u001b[39m]\n\u001b[32m----> \u001b[39m\u001b[32m5\u001b[39m escolha = \u001b[43mchoice\u001b[49m(lista)\n\u001b[32m      6\u001b[39m \u001b[38;5;28mprint\u001b[39m(escolha)\n",
            "\u001b[31mNameError\u001b[39m: name 'choice' is not defined"
          ]
        }
      ],
      "source": [
        "#desafio: escolher numero aleatorio da lista\n",
        "import random\n",
        "lista = [8, 12, 54, 23, 43, 1, 90, 87, 105, 77]\n",
        "\n",
        "escolha = choice(lista)\n",
        "print(escolha)\n"
      ]
    },
    {
      "cell_type": "code",
      "execution_count": null,
      "metadata": {
        "colab": {
          "base_uri": "https://localhost:8080/"
        },
        "id": "l7iJVtFO7pOF",
        "outputId": "58109625-2b53-4dde-f10f-3bd439c475e5"
      },
      "outputs": [
        {
          "name": "stdout",
          "output_type": "stream",
          "text": [
            "21\n"
          ]
        }
      ],
      "source": [
        "#desafio: sortear um nrm aleatorio inteiro menor que 100 positivo\n",
        "\n",
        "import random\n",
        "sorteado = random.randrange(0, 101, 1)\n",
        "\n",
        "print(sorteado)"
      ]
    },
    {
      "cell_type": "markdown",
      "metadata": {
        "id": "2kajhdLL9ZxO"
      },
      "source": [
        "5. Crie um programa que solicite à pessoa usuária digitar dois números inteiros e calcular a potência do 1º número elevado ao 2º"
      ]
    },
    {
      "cell_type": "code",
      "execution_count": 5,
      "metadata": {
        "colab": {
          "base_uri": "https://localhost:8080/"
        },
        "id": "rhJL6gdY8YAd",
        "outputId": "06a84735-9437-4b87-df97-571d0b03b8b2"
      },
      "outputs": [
        {
          "name": "stdout",
          "output_type": "stream",
          "text": [
            "O primeiro número 3 elevado ao segundo 3 é igual a: 27.0\n"
          ]
        }
      ],
      "source": [
        "import math\n",
        "\n",
        "numero1 = int(input('Digite o primero número: '))\n",
        "numero2 = int(input('Digite o segundo número: '))\n",
        "\n",
        "potencia = math.pow(numero1, numero2)\n",
        "\n",
        "print(f'O primeiro número {numero1} elevado ao segundo {numero2} é igual a: {potencia}')\n"
      ]
    },
    {
      "cell_type": "markdown",
      "metadata": {
        "id": "vEwCeo799XXj"
      },
      "source": [
        "6. Um programa deve ser escrito para sortear uma pessoa seguidora de uma rede social para ganhar um prêmio. A lista de participantes é numerada e devemos escolher aleatoriamente um número de acordo com a quantidade de participantes. Peça à pessoa usuária para fornecer o número de participantes do sorteio e devolva para ela o número sorteado."
      ]
    },
    {
      "cell_type": "code",
      "execution_count": null,
      "metadata": {
        "colab": {
          "base_uri": "https://localhost:8080/"
        },
        "id": "Kts8fe5o9YM1",
        "outputId": "a0a69da8-5442-47f8-c7bc-b6916dd95bde"
      },
      "outputs": [
        {
          "name": "stdout",
          "output_type": "stream",
          "text": [
            "Quantas pessoas vai participar do sorteio? 100\n",
            "Número sorteado entre 1 e 100:\n",
            "Escolhido: 91\n"
          ]
        }
      ],
      "source": [
        "import random\n",
        "\n",
        "numeroPessoas = int(input(\"Quantas pessoas vai participar do sorteio? \"))\n",
        "\n",
        "sorteio = random.randint(1,numeroPessoas)\n",
        "\n",
        "print(f'Número sorteado entre 1 e {numeroPessoas}:')\n",
        "print(f'Escolhido: {sorteio}')"
      ]
    },
    {
      "cell_type": "markdown",
      "metadata": {
        "id": "ILeERkD9-MeQ"
      },
      "source": [
        "7. Você recebeu uma demanda para gerar números de token para acessar o aplicativo de uma empresa. O token precisa ser par e variar de 1000 até 9998. Escreva um código que solicita à pessoa usuária o seu nome e exibe uma mensagem junto a esse token gerado aleatoriamente.\n",
        "\n"
      ]
    },
    {
      "cell_type": "code",
      "execution_count": null,
      "metadata": {
        "colab": {
          "base_uri": "https://localhost:8080/"
        },
        "id": "tC4XENhM-NCh",
        "outputId": "4af81b35-d2b4-4efc-b2f8-687eb5700cc0"
      },
      "outputs": [
        {
          "name": "stdout",
          "output_type": "stream",
          "text": [
            "Qual seu nome? teste2\n",
            "Olá teste2, o seu token de acesso é [1106]! Seja bem-vindo(a)!\n"
          ]
        }
      ],
      "source": [
        "import random\n",
        "nome = str(input('Qual seu nome? '))\n",
        "\n",
        "token = random.randrange(1000, 9998, 2)\n",
        "\n",
        "print(f'Olá {nome}, o seu token de acesso é [{token}]! Seja bem-vindo(a)!')\n",
        "\n"
      ]
    },
    {
      "cell_type": "markdown",
      "metadata": {
        "id": "_L6KS6B-E0c4"
      },
      "source": [
        "8. Para diversificar e atrair novos(as) clientes, uma lanchonete criou um item misterioso em seu cardápio chamado \"salada de frutas surpresa\". Neste item, são escolhidas aleatoriamente 3 frutas de uma lista de 12 para compor a salada de frutas da pessoa cliente. Crie o código que faça essa seleção aleatória de acordo com a lista abaixo:"
      ]
    },
    {
      "cell_type": "code",
      "execution_count": null,
      "metadata": {
        "colab": {
          "base_uri": "https://localhost:8080/"
        },
        "id": "2a93qQa-E1hq",
        "outputId": "71d48fb3-3619-4bd3-c244-7baebaf2967a"
      },
      "outputs": [
        {
          "name": "stdout",
          "output_type": "stream",
          "text": [
            "['manga', 'abacaxi', 'kiwi']\n"
          ]
        }
      ],
      "source": [
        "import random\n",
        "\n",
        "frutas = [\"maçã\", \"banana\", \"uva\", \"pêra\",\n",
        "          \"manga\", \"coco\", \"melancia\", \"mamão\",\n",
        "          \"laranja\", \"abacaxi\", \"kiwi\", \"ameixa\"]\n",
        "\n",
        "sorteioFrutas = random.choices(frutas, k=3)\n",
        "\n",
        "print(sorteioFrutas)"
      ]
    },
    {
      "cell_type": "markdown",
      "metadata": {
        "id": "ctydHSvBGHxC"
      },
      "source": [
        "9. Você recebeu um desafio de calcular a raiz quadrada de uma lista de números, identificando quais resultaram em um número inteiro. A lista é a seguinte:"
      ]
    },
    {
      "cell_type": "code",
      "execution_count": null,
      "metadata": {
        "colab": {
          "base_uri": "https://localhost:8080/"
        },
        "id": "21knipqmFL7e",
        "outputId": "4b53756f-52dc-4d9a-df64-604b616a28b7"
      },
      "outputs": [
        {
          "name": "stdout",
          "output_type": "stream",
          "text": [
            "Números com raiz quadrada inteira:\n",
            "256 → raiz = 16\n",
            "9 → raiz = 3\n",
            "25 → raiz = 5\n"
          ]
        }
      ],
      "source": [
        "import math\n",
        "\n",
        "numeros = [2, 8, 15, 23, 91, 112, 256, 9, 10, 12, 25]\n",
        "\n",
        "print(\"Números com raiz quadrada inteira:\")\n",
        "for numero in numeros:\n",
        "    raiz = math.sqrt(numero)\n",
        "    if raiz.is_integer():\n",
        "        print(f\"{numero} → raiz = {int(raiz)}\")"
      ]
    },
    {
      "cell_type": "markdown",
      "metadata": {
        "id": "WGRaugA9IU0j"
      },
      "source": [
        "10. Faça um programa para uma loja que vende grama para jardins. Essa loja trabalha com jardins circulares e o preço do metro quadrado da grama é de R$ 25,00. Peça à pessoa usuária o raio da área circular e devolva o valor em reais do quanto precisará pagar."
      ]
    },
    {
      "cell_type": "code",
      "execution_count": null,
      "metadata": {
        "colab": {
          "base_uri": "https://localhost:8080/"
        },
        "id": "-wBflhzsIVX0",
        "outputId": "0b39e8fe-b10c-4fef-f50e-84c891166060"
      },
      "outputs": [
        {
          "name": "stdout",
          "output_type": "stream",
          "text": [
            "Digite o raio do jardim circular (em metros): 10\n",
            "A área do jardim é de: 314.16 m²\n",
            "O valor a pagar pela grama é de R$ 7853.98\n"
          ]
        }
      ],
      "source": [
        "import math\n",
        "preco_m2 = 25.00\n",
        "\n",
        "raio = float(input('Digite o raio do jardim circular (em metros): '))\n",
        "\n",
        "area = math.pi * math.pow(raio, 2)\n",
        "\n",
        "valor_total = area * preco_m2\n",
        "\n",
        "print(f'A área do jardim é de: {area:.2f} m²')\n",
        "print(f'O valor a pagar pela grama é de R$ {valor_total:.2f}')"
      ]
    },
    {
      "cell_type": "markdown",
      "metadata": {
        "id": "DKj-0q9J8Zam"
      },
      "source": [
        "Situação 1: A escola em que estamos construindo o nosso case de dados compartilhou os dados das notas de um estudante para que pudéssemos calcular a média deste em até uma casa decimal. Os dados recebidos correspondem a um dicionário com as chaves indicando o trimestre em questão e os valores das notas de cada trimestre do estudante em uma dada matéria."
      ]
    },
    {
      "cell_type": "code",
      "execution_count": null,
      "metadata": {
        "colab": {
          "base_uri": "https://localhost:8080/"
        },
        "id": "dvVjCUZN8XYW",
        "outputId": "6ed46245-952c-416f-d492-5f78d04e5da2"
      },
      "outputs": [
        {
          "data": {
            "text/plain": [
              "{'1º Trimestre': 8.5, '2º Trimestre': 9.5, '3º trimestre': 7}"
            ]
          },
          "execution_count": 1,
          "metadata": {},
          "output_type": "execute_result"
        }
      ],
      "source": [
        "#Notas do(a) estudante\n",
        "notas = {'1º Trimestre': 8.5, '2º Trimestre': 9.5, '3º trimestre': 7}\n",
        "notas"
      ]
    },
    {
      "cell_type": "code",
      "execution_count": null,
      "metadata": {
        "colab": {
          "base_uri": "https://localhost:8080/"
        },
        "id": "Xy-KkoXU8mkE",
        "outputId": "819366e3-ffca-4645-e1e7-2015914d5de4"
      },
      "outputs": [
        {
          "data": {
            "text/plain": [
              "25.0"
            ]
          },
          "execution_count": 16,
          "metadata": {},
          "output_type": "execute_result"
        }
      ],
      "source": [
        "#calculando a soma\n",
        "soma = 0\n",
        "\n",
        "for nota in notas.values():\n",
        "  soma += nota\n",
        "soma"
      ]
    },
    {
      "cell_type": "code",
      "execution_count": null,
      "metadata": {
        "colab": {
          "base_uri": "https://localhost:8080/"
        },
        "id": "r4ov2aru9KHi",
        "outputId": "fdf02a0e-07b3-40f1-a458-326484c1eb4e"
      },
      "outputs": [
        {
          "data": {
            "text/plain": [
              "25.0"
            ]
          },
          "execution_count": 17,
          "metadata": {},
          "output_type": "execute_result"
        }
      ],
      "source": [
        "#usando a função embutida sum()\n",
        "\n",
        "somatorio = sum(notas.values())\n",
        "somatorio"
      ]
    },
    {
      "cell_type": "code",
      "execution_count": null,
      "metadata": {
        "colab": {
          "base_uri": "https://localhost:8080/"
        },
        "id": "z9l6pl7J9X99",
        "outputId": "97b350d9-0de4-45f1-d891-447efe3550bd"
      },
      "outputs": [
        {
          "data": {
            "text/plain": [
              "3"
            ]
          },
          "execution_count": 8,
          "metadata": {},
          "output_type": "execute_result"
        }
      ],
      "source": [
        "#usando a função embutida len()\n",
        "\n",
        "qtd_notas = len(notas)\n",
        "\n",
        "qtd_notas"
      ]
    },
    {
      "cell_type": "code",
      "execution_count": null,
      "metadata": {
        "colab": {
          "base_uri": "https://localhost:8080/"
        },
        "id": "aWOmrXcy9kfl",
        "outputId": "63c8a2e1-01fb-42e1-94f3-faa6b28118cb"
      },
      "outputs": [
        {
          "data": {
            "text/plain": [
              "8.3"
            ]
          },
          "execution_count": 14,
          "metadata": {},
          "output_type": "execute_result"
        }
      ],
      "source": [
        "#calculando media\n",
        "\n",
        "media = somatorio / qtd_notas\n",
        "\n",
        "media = round(media, 1)\n",
        "\n",
        "media"
      ]
    },
    {
      "cell_type": "markdown",
      "metadata": {
        "id": "k7PGdSln-1-H"
      },
      "source": [
        "funções sem parâmetros"
      ]
    },
    {
      "cell_type": "code",
      "execution_count": null,
      "metadata": {
        "colab": {
          "base_uri": "https://localhost:8080/"
        },
        "id": "OkI1V7wj-62A",
        "outputId": "6da61b0c-4561-437c-b4b3-3e287d709dd0"
      },
      "outputs": [
        {
          "name": "stdout",
          "output_type": "stream",
          "text": [
            "9.0\n"
          ]
        }
      ],
      "source": [
        "def media():\n",
        "  calculo = (10 + 9 + 8) / 3\n",
        "  print(calculo)\n",
        "\n",
        "media()"
      ]
    },
    {
      "cell_type": "markdown",
      "metadata": {
        "id": "DtpTAlU7_Vmi"
      },
      "source": [
        "Funções com parâmetros"
      ]
    },
    {
      "cell_type": "code",
      "execution_count": null,
      "metadata": {
        "colab": {
          "base_uri": "https://localhost:8080/"
        },
        "id": "q6wslLAY_XPg",
        "outputId": "4e25f22c-313a-4a40-89c8-177ba82dae23"
      },
      "outputs": [
        {
          "name": "stdout",
          "output_type": "stream",
          "text": [
            "10.0\n"
          ]
        }
      ],
      "source": [
        "def mediaP(n1, n2, n3):\n",
        "  calculo = (n1 + n2 + n3) / 3\n",
        "  print(calculo)\n",
        "\n",
        "mediaP(10, 3, 7)"
      ]
    },
    {
      "cell_type": "code",
      "execution_count": null,
      "metadata": {
        "colab": {
          "base_uri": "https://localhost:8080/"
        },
        "id": "n1uuad-6_Wnu",
        "outputId": "87f1020f-b7a6-4df1-a22e-8f1d77b37e86"
      },
      "outputs": [
        {
          "name": "stdout",
          "output_type": "stream",
          "text": [
            "8.375\n"
          ]
        }
      ],
      "source": [
        "# Notas do(a) estudante\n",
        "notas = [8.5, 9.0, 6.0, 10.0]\n",
        "\n",
        "def media(lista):\n",
        "  calculo = sum(lista)/len(lista)\n",
        "  print(calculo)\n",
        "\n",
        "media(notas)"
      ]
    },
    {
      "cell_type": "code",
      "execution_count": null,
      "metadata": {
        "colab": {
          "base_uri": "https://localhost:8080/"
        },
        "id": "_BAuSJBMAwnB",
        "outputId": "424f5636-6148-43d8-e41a-806610d43798"
      },
      "outputs": [
        {
          "name": "stdout",
          "output_type": "stream",
          "text": [
            "8.375\n"
          ]
        }
      ],
      "source": [
        "resultado = media(notas)"
      ]
    },
    {
      "cell_type": "code",
      "execution_count": null,
      "metadata": {
        "colab": {
          "base_uri": "https://localhost:8080/"
        },
        "id": "OzcazW9NA55v",
        "outputId": "13d6e6ba-c5fe-4344-850e-b1560f8df94f"
      },
      "outputs": [
        {
          "data": {
            "text/plain": [
              "8.375"
            ]
          },
          "execution_count": 40,
          "metadata": {},
          "output_type": "execute_result"
        }
      ],
      "source": [
        "def media(lista):\n",
        "  calculo = sum(lista) / len(lista)\n",
        "  return calculo\n",
        "\n",
        "resultado = media(notas)"
      ]
    },
    {
      "cell_type": "code",
      "execution_count": null,
      "metadata": {
        "colab": {
          "base_uri": "https://localhost:8080/"
        },
        "id": "5Ll5TEuzCKys",
        "outputId": "297866ea-cef5-4c25-888b-a6622d2acd35"
      },
      "outputs": [
        {
          "data": {
            "text/plain": [
              "(6.75, 'Aprovado(a) - Parabéns!')"
            ]
          },
          "execution_count": 16,
          "metadata": {},
          "output_type": "execute_result"
        }
      ],
      "source": [
        "# Notas do(a) estudante\n",
        "notas = [6.0, 7.0, 9.0, 5.0]\n",
        "\n",
        "def boletim(lista):\n",
        "  media = sum(lista) / len(lista)\n",
        "\n",
        "  if media >= 6:\n",
        "    situacao = \"Aprovado(a) - Parabéns!\"\n",
        "  else:\n",
        "    situacao = \"Reprovado(a) - Estude mais!\"\n",
        "\n",
        "  return (media, situacao)\n",
        "\n",
        "boletim(notas)\n"
      ]
    },
    {
      "cell_type": "code",
      "execution_count": null,
      "metadata": {
        "id": "qfgSOaKyovmU"
      },
      "outputs": [],
      "source": [
        "media, situacao = boletim(notas)"
      ]
    },
    {
      "cell_type": "code",
      "execution_count": null,
      "metadata": {
        "colab": {
          "base_uri": "https://localhost:8080/"
        },
        "id": "DPaPz2A2pEZW",
        "outputId": "73fb4918-2b73-4032-9175-dbb423f0ee45"
      },
      "outputs": [
        {
          "data": {
            "text/plain": [
              "6.75"
            ]
          },
          "execution_count": 19,
          "metadata": {},
          "output_type": "execute_result"
        }
      ],
      "source": [
        "media"
      ]
    },
    {
      "cell_type": "code",
      "execution_count": null,
      "metadata": {
        "colab": {
          "base_uri": "https://localhost:8080/",
          "height": 35
        },
        "id": "jQPNhYcQpHxd",
        "outputId": "30dac3a7-96c4-4c95-800f-197bc50298b4"
      },
      "outputs": [
        {
          "data": {
            "application/vnd.google.colaboratory.intrinsic+json": {
              "type": "string"
            },
            "text/plain": [
              "'Aprovado(a) - Parabéns!'"
            ]
          },
          "execution_count": 20,
          "metadata": {},
          "output_type": "execute_result"
        }
      ],
      "source": [
        "situacao"
      ]
    },
    {
      "cell_type": "code",
      "execution_count": null,
      "metadata": {
        "colab": {
          "base_uri": "https://localhost:8080/"
        },
        "id": "S31FB8CqpJIq",
        "outputId": "9f01d46c-084d-4288-c510-555b4d57f2ee"
      },
      "outputs": [
        {
          "name": "stdout",
          "output_type": "stream",
          "text": [
            "O(a) estudante atingiu uma media 6.75 e foi Aprovado(a) - Parabéns!\n"
          ]
        }
      ],
      "source": [
        "print(f'O(a) estudante atingiu uma media {media} e foi {situacao}')"
      ]
    },
    {
      "cell_type": "markdown",
      "metadata": {
        "id": "Ziya9kMFqSuB"
      },
      "source": [
        "Situação 4: Nesta nova demanda, precisamos criar uma calculadora simples da média ponderada de notas de uma dada matéria. Vamos requisitar ao usuário a entrada das 3 notas (N1, N2, N3) do estudante e devolver a média ponderada deste estudante. Os pesos das notas são de, respectivamente 3, 2, 5. Precisamos exibir um pequeno texto em que indicamos a média do(a) estudante. Vamos resolver esse desafio?"
      ]
    },
    {
      "cell_type": "code",
      "execution_count": null,
      "metadata": {
        "colab": {
          "base_uri": "https://localhost:8080/"
        },
        "id": "vkembVZKqSZz",
        "outputId": "16970c93-dd01-4ee8-afd5-12d9998ede13"
      },
      "outputs": [
        {
          "name": "stdout",
          "output_type": "stream",
          "text": [
            "Digite a nota do estudante: 2\n"
          ]
        },
        {
          "data": {
            "text/plain": [
              "2.5"
            ]
          },
          "execution_count": 22,
          "metadata": {},
          "output_type": "execute_result"
        }
      ],
      "source": [
        "#comparando uma função de qualitativo no formato de função para função anonima\n",
        "\n",
        "nota = float(input(\"Digite a nota do estudante: \"))\n",
        "\n",
        "def qualitativo(x):\n",
        "  return x + 0.5\n",
        "\n",
        "qualitativo(nota)"
      ]
    },
    {
      "cell_type": "code",
      "execution_count": null,
      "metadata": {
        "colab": {
          "base_uri": "https://localhost:8080/"
        },
        "id": "rTYNS4LIqlIn",
        "outputId": "71a51ef8-44f5-4daf-cd82-225816f98376"
      },
      "outputs": [
        {
          "name": "stdout",
          "output_type": "stream",
          "text": [
            "digite a nota do estudante: 2\n"
          ]
        },
        {
          "data": {
            "text/plain": [
              "2.5"
            ]
          },
          "execution_count": 23,
          "metadata": {},
          "output_type": "execute_result"
        }
      ],
      "source": [
        "# testando a mesma função para uma função lambda\n",
        "\n",
        "nota = float(input(\"digite a nota do estudante: \"))\n",
        "\n",
        "qualitativo = lambda x: x + 0.5\n",
        "\n",
        "qualitativo(nota)"
      ]
    },
    {
      "cell_type": "code",
      "execution_count": null,
      "metadata": {
        "colab": {
          "base_uri": "https://localhost:8080/"
        },
        "id": "ZrExF9fqq79V",
        "outputId": "e4ae19c7-7395-4355-9247-906bc8dd7830"
      },
      "outputs": [
        {
          "name": "stdout",
          "output_type": "stream",
          "text": [
            "digite a 1º nota do estudante: 1\n",
            "digite a 2º nota do estudante: 10\n",
            "digite a 3º nota do estudante: 9\n",
            "a media do estudante é: 6.8\n"
          ]
        }
      ],
      "source": [
        "nota1 = float(input(\"digite a 1º nota do estudante: \"))\n",
        "nota2 = float(input(\"digite a 2º nota do estudante: \"))\n",
        "nota3 = float(input(\"digite a 3º nota do estudante: \"))\n",
        "\n",
        "media_ponderavel = lambda x, y, z: (x*3 + y*2 + z * 5)/10\n",
        "\n",
        "media_estudante = media_ponderavel(nota1, nota2, nota3)\n",
        "\n",
        "print(f'a media do estudante é: {media_estudante}')"
      ]
    },
    {
      "cell_type": "markdown",
      "metadata": {
        "id": "Gvm9WXKQsG6a"
      },
      "source": [
        "Situação 5: Recebemos mais uma demanda, desta vez, para criar uma pequena função que pudesse adicionar qualitativo (pontuação extra) às notas do trimestre dos estudantes da turma que ganhou a gincana de programação promovida pela escola. Cada estudante receberá o qualitativo de 0.5 acrescido à média. Os dados recebidos correspondem a uma lista contendo as notas de alguns estudantes e uma variável com o qualitativo recebido."
      ]
    },
    {
      "cell_type": "code",
      "execution_count": null,
      "metadata": {
        "colab": {
          "base_uri": "https://localhost:8080/"
        },
        "id": "zFYZ8_LesGmv",
        "outputId": "488b8389-72d5-4a31-dc86-dbfdb3bd634a"
      },
      "outputs": [
        {
          "data": {
            "text/plain": [
              "[6.5, 7.5, 9.5, 6.0, 8.5]"
            ]
          },
          "execution_count": 33,
          "metadata": {},
          "output_type": "execute_result"
        }
      ],
      "source": [
        "# Notas do(a) estudante\n",
        "notas = [6.0, 7.0, 9.0, 5.5, 8.0]\n",
        "qualitativo = 0.5\n",
        "\n",
        "#para fazer a interação do qualitativo em uma lista precisa utilizar a função map para interar na lista\n",
        "notas_att = map(lambda x: x + qualitativo, notas)\n",
        "\n",
        "#para transformar o mapa em uma lista\n",
        "notas_att = list(notas_att)\n",
        "\n",
        "notas_att"
      ]
    },
    {
      "cell_type": "markdown",
      "metadata": {
        "id": "jZd6m1_ytp-a"
      },
      "source": [
        "**1. Escreva um código que lê a lista abaixo e faça:**\n",
        "\n",
        "lista = [16, 14, 63, 65, 17, 99, 70, 11, 20, 48, 79, 32, 17, 89, 12, 25, 66]\n",
        "\n",
        "*   A leitura do tamanho da lista\n",
        "*   A leitura do maior e menor valor\n",
        "*   A soma dos valores da lista\n",
        "\n"
      ]
    },
    {
      "cell_type": "code",
      "execution_count": null,
      "metadata": {
        "colab": {
          "base_uri": "https://localhost:8080/"
        },
        "id": "6cpnioCTtqau",
        "outputId": "ffaff704-b070-4fb3-dcda-485d53349715"
      },
      "outputs": [
        {
          "name": "stdout",
          "output_type": "stream",
          "text": [
            "O tamanho da lista: 17, o maior valor da lista: 99, o menor valor da lista 11, a soma da lista 743\n"
          ]
        }
      ],
      "source": [
        "lista = [16, 14, 63, 65, 17, 99, 70, 11, 20, 48, 79, 32, 17, 89, 12, 25, 66]\n",
        "\n",
        "tamanho_lista = len(lista)\n",
        "\n",
        "maior_valor = max(lista)\n",
        "\n",
        "menor_valor = min(lista)\n",
        "\n",
        "soma_valor = sum(lista)\n",
        "\n",
        "print(f'O tamanho da lista: {tamanho_lista}, o maior valor da lista: {maior_valor}, o menor valor da lista {menor_valor}, a soma da lista {soma_valor}')"
      ]
    },
    {
      "cell_type": "markdown",
      "metadata": {
        "id": "SM_iZDX9ujRR"
      },
      "source": [
        "**2. Escreva uma função que gere a tabuada de um número inteiro de 1 a 10, de acordo com a escolha da pessoa usuária. Como exemplo, para o número 7, a tabuada deve ser mostrada no seguinte formato:**\n",
        "\n",
        "Tabuada do 7:\n",
        "\n",
        "7 x 0 = 0\n",
        "\n",
        "7 x 1 = 7\n",
        "\n",
        "[...]\n",
        "\n",
        "7 x 10 = 70"
      ]
    },
    {
      "cell_type": "code",
      "execution_count": null,
      "metadata": {
        "id": "-_L_OXTSuos9"
      },
      "outputs": [],
      "source": [
        "#o jeito burro de fazer kkkk\n",
        "numero = int(input(\"Digite um número: \"))\n",
        "\n",
        "n0 = 0*numero\n",
        "n1 = 1*numero\n",
        "n2 = 2*numero\n",
        "n3 = 3*numero\n",
        "n4 = 4*numero\n",
        "n5 = 5*numero\n",
        "n6 = 6*numero\n",
        "n7 = 7*numero\n",
        "n8 = 8*numero\n",
        "n9 = 9*numero\n",
        "\n",
        "print(f'Tabuada do {numero}')\n",
        "print(f'{numero} * 0 = {n0}')\n",
        "print(f'{numero} * 1 = {n1}')\n",
        "print(f'{numero} * 2 = {n2}')\n",
        "print(f'{numero} * 3 = {n3}')\n",
        "print(f'{numero} * 4 = {n4}')\n",
        "print(f'{numero} * 5 = {n5}')\n",
        "print(f'{numero} * 6 = {n6}')\n",
        "print(f'{numero} * 7 = {n7}')\n",
        "print(f'{numero} * 8 = {n8}')\n",
        "print(f'{numero} * 9 = {n9}')"
      ]
    },
    {
      "cell_type": "code",
      "execution_count": null,
      "metadata": {
        "colab": {
          "base_uri": "https://localhost:8080/"
        },
        "id": "cTvKrdgcwAlP",
        "outputId": "69545f69-1265-4865-80f8-0569783fd4ba"
      },
      "outputs": [
        {
          "name": "stdout",
          "output_type": "stream",
          "text": [
            "Digite um número inteiro de 0 a 10 para ver a tabuada: 5\n",
            "Tabuada do 5:\n",
            "5 x 0 = 0\n",
            "5 x 1 = 5\n",
            "5 x 2 = 10\n",
            "5 x 3 = 15\n",
            "5 x 4 = 20\n",
            "5 x 5 = 25\n",
            "5 x 6 = 30\n",
            "5 x 7 = 35\n",
            "5 x 8 = 40\n",
            "5 x 9 = 45\n",
            "5 x 10 = 50\n"
          ]
        }
      ],
      "source": [
        "#o jeito inteligente\n",
        "def gera_tabuada(numero):\n",
        "  if not isinstance(numero, int) or numero < 0 or numero > 10:\n",
        "    print(\"Por favor, insira um número inteiro de 0 a 10\")\n",
        "    return\n",
        "\n",
        "  print(f\"Tabuada do {numero}:\")\n",
        "  for i in range(11):\n",
        "    resultado = numero * i\n",
        "    print(f\"{numero} x {i} = {resultado}\")\n",
        "\n",
        "numero_escolhido = int(input(\"Digite um número inteiro de 0 a 10 para ver a tabuada: \"))\n",
        "gera_tabuada(numero_escolhido)"
      ]
    },
    {
      "cell_type": "markdown",
      "metadata": {
        "id": "g-0fhpe8f2k3"
      },
      "source": [
        "3. Crie a função que leia a lista abaixo e retorne uma nova lista com os múltiplos de 3:\n",
        "\n",
        "[97, 80, 94, 88, 80, 1, 16, 53, 62, 32, 24, 99]"
      ]
    },
    {
      "cell_type": "code",
      "execution_count": null,
      "metadata": {
        "colab": {
          "base_uri": "https://localhost:8080/"
        },
        "id": "0J0l9F3Pf28t",
        "outputId": "53fdd0ac-26da-4ac5-9f32-6364752d4943"
      },
      "outputs": [
        {
          "name": "stdout",
          "output_type": "stream",
          "text": [
            "lista com os múltiplos de 3: [24, 99, 27, 15]\n"
          ]
        }
      ],
      "source": [
        "lista = [97, 80, 94, 88, 80, 1, 16, 53, 62, 32, 24, 99, 27, 15]\n",
        "\n",
        "def filtrar_multiplos3(lista):\n",
        "    resultado = []\n",
        "    for num in lista:\n",
        "        if num % 3 == 0:\n",
        "            resultado.append(num)\n",
        "    return resultado\n",
        "\n",
        "multiplode3 = filtrar_multiplos3(lista)\n",
        "\n",
        "print(f'lista com os múltiplos de 3: {multiplode3}')"
      ]
    },
    {
      "cell_type": "markdown",
      "metadata": {
        "id": "tESciCmCijjQ"
      },
      "source": [
        "4. Crie uma lista dos quadrados dos números da seguinte lista [1, 2, 3, 4, 5, 6, 7, 8, 9, 10]. Lembre-se de utilizar as funções lambda e map() para calcular o quadrado de cada elemento da lista."
      ]
    },
    {
      "cell_type": "code",
      "execution_count": null,
      "metadata": {
        "colab": {
          "base_uri": "https://localhost:8080/"
        },
        "id": "z30WKufsimBK",
        "outputId": "dcb1ad2e-5c4f-40c1-8819-47eb10539d53"
      },
      "outputs": [
        {
          "name": "stdout",
          "output_type": "stream",
          "text": [
            "[1, 4, 9, 16, 25, 36, 49, 64, 81, 100]\n"
          ]
        }
      ],
      "source": [
        "numeros = [1, 2, 3, 4, 5, 6, 7, 8, 9, 10]\n",
        "quadrados = list(map(lambda x: x**2, numeros))\n",
        "print(quadrados)\n"
      ]
    },
    {
      "cell_type": "code",
      "execution_count": null,
      "metadata": {
        "colab": {
          "base_uri": "https://localhost:8080/"
        },
        "id": "EIBkFfxgjCCA",
        "outputId": "a2c06300-56f8-4675-f2b2-0d843c37a77a"
      },
      "outputs": [
        {
          "name": "stdout",
          "output_type": "stream",
          "text": [
            "Os quadrados dos números da lista são: [1, 4, 9, 16, 25, 36, 49, 64, 81, 100]\n"
          ]
        }
      ],
      "source": [
        "numeros = [1, 2, 3, 4, 5, 6, 7, 8, 9, 10]\n",
        "\n",
        "quadrados = map(lambda x: x**2, numeros)\n",
        "\n",
        "resultado = list(quadrados)\n",
        "\n",
        "print(f'Os quadrados dos números da lista são: {resultado}')"
      ]
    },
    {
      "cell_type": "code",
      "execution_count": null,
      "metadata": {
        "id": "BWaqG6eojS-S"
      },
      "outputs": [],
      "source": []
    },
    {
      "cell_type": "markdown",
      "metadata": {
        "id": "xXqTBFYOjajL"
      },
      "source": [
        "5. Você foi contratado(a) como cientista de dados de uma associação de skate. Para analisar as notas recebidas de skatistas em algumas competições ao longo do ano, você precisa criar um código que calcula a pontuação dos(as) atletas. Para isso, o seu código deve receber 5 notas digitadas pelas pessoas juradas.\n",
        "\n",
        "Para calcular a pontuação de um(a) skatista, você precisa eliminar a maior e a menor pontuação dentre as 5 notas e tirar a média das 3 notas que sobraram. Retorne a média para apresentar o texto:\n",
        "\n",
        "\"Nota da manobra: [media]\""
      ]
    },
    {
      "cell_type": "code",
      "execution_count": null,
      "metadata": {
        "colab": {
          "base_uri": "https://localhost:8080/"
        },
        "id": "S5g0O2DIjbXc",
        "outputId": "8027941e-a45d-4bb0-a60b-24620c33f01a"
      },
      "outputs": [
        {
          "name": "stdout",
          "output_type": "stream",
          "text": [
            "Qual a nota 1º: 1\n",
            "Qual a nota 2º: 22\n",
            "Qual a nota 3º: 2\n",
            "Qual a nota 4º: 3\n",
            "Qual a nota 5º: 9\n",
            "As notas do skatista são [1.0, 2.0, 3.0, 9.0, 22.0]\n",
            "Removendo a menor nota: [2.0, 3.0, 9.0, 22.0]\n",
            "Removando a maior nota: [2.0, 3.0, 9.0]\n",
            "Resultado da media: 4.666666666666667 \n"
          ]
        }
      ],
      "source": [
        "notas = []\n",
        "for num in range(5):\n",
        "  nota = float(input(f\"Qual a nota {num+1}º: \"))\n",
        "  notas.append(nota)\n",
        "\n",
        "notas.sort() ## .sort() -> para imprimir em ordem crescente === lista.sort(reverse=True)      # Ordena em ordem decrescente ===\n",
        "print(f\"As notas do skatista são {notas}\")\n",
        "\n",
        "notaminina = min(notas)\n",
        "notas.remove(notaminina)\n",
        "print(f\"Removendo a menor nota: {notas}\")\n",
        "\n",
        "\n",
        "notamaxima = max(notas)\n",
        "notas.remove(notamaxima)\n",
        "print(f\"Removando a maior nota: {notas}\")\n",
        "\n",
        "media = sum(notas) / len(notas) # fazendo a media, utlizando o sum para somar e o len para percorrer tamanho\n",
        "print(f\"Resultado da media: {media} \")"
      ]
    },
    {
      "cell_type": "markdown",
      "metadata": {
        "id": "_gbx0prTmo8I"
      },
      "source": [
        "6. Para atender a uma demanda de uma instituição de ensino para a análise do desempenho de seus(suas) estudantes, você precisa criar uma função que receba uma lista de 4 notas e retorne:\n",
        "\n",
        "maior nota\n",
        "menor nota\n",
        "média\n",
        "situação (Aprovado(a) ou Reprovado(a))\n",
        "Para testar o comportamento da função, os dados podem ser exibidos em um texto:"
      ]
    },
    {
      "cell_type": "code",
      "execution_count": null,
      "metadata": {
        "colab": {
          "base_uri": "https://localhost:8080/"
        },
        "id": "bkgN96btmokT",
        "outputId": "566ff1a2-4030-4b13-8537-b05b5f1c18a7"
      },
      "outputs": [
        {
          "name": "stdout",
          "output_type": "stream",
          "text": [
            "Qual a nota 1° do estudante: 10\n",
            "Qual a nota 2° do estudante: 9\n",
            "Qual a nota 3° do estudante: 9\n",
            "Qual a nota 4° do estudante: 3\n",
            "Maior nota: 10.0\n",
            "Menor nota: 3.0\n",
            "Média: 7.75\n",
            "Situação: Aprovado\n"
          ]
        }
      ],
      "source": [
        "lista = []\n",
        "\n",
        "def notas():\n",
        "  for num in range(4):\n",
        "    notas = float(input(f'Qual a nota {num+1}° do estudante: '))\n",
        "    lista.append(notas)\n",
        "\n",
        "  maiornota = max(lista)\n",
        "  menornota = min(lista)\n",
        "  media = sum(lista) / len(lista)\n",
        "  situacao = \"Reprovado\" if media <= 6 else \"Aprovado\"\n",
        "  return maiornota, menornota, media, situacao\n",
        "\n",
        "\n",
        "maior, menor, media, status = notas()\n",
        "print(f\"Maior nota: {maior}\")\n",
        "print(f\"Menor nota: {menor}\")\n",
        "print(f\"Média: {media:.2f}\")\n",
        "print(f\"Situação: {status}\")\n"
      ]
    },
    {
      "cell_type": "markdown",
      "metadata": {
        "id": "zpWEDMjzrF6V"
      },
      "source": [
        "7. Você recebeu uma demanda para tratar 2 listas com os nomes e sobrenomes de cada estudante concatenando-as para apresentar seus nomes completos na forma Nome Sobrenome. As listas são:\n",
        "\n",
        "nomes = [\"joão\", \"MaRia\", \"JOSÉ\"]\n",
        "sobrenomes = [\"SILVA\", \"souza\", \"Tavares\"]"
      ]
    },
    {
      "cell_type": "code",
      "execution_count": null,
      "metadata": {
        "colab": {
          "base_uri": "https://localhost:8080/"
        },
        "id": "3xEoAwArrFoC",
        "outputId": "82ed0ab6-293f-4e72-a683-5c2e0d961d88"
      },
      "outputs": [
        {
          "name": "stdout",
          "output_type": "stream",
          "text": [
            "Nome completo: João Silva\n",
            "Nome completo: Maria Souza\n",
            "Nome completo: José Tavares\n"
          ]
        }
      ],
      "source": [
        "nomes = [\"joão\", \"MaRia\", \"JOSÉ\"]\n",
        "sobrenomes = [\"SILVA\", \"souza\", \"Tavares\"]\n",
        "\n",
        "\n",
        "for i in range(min(len(nomes), len(sobrenomes))):\n",
        "  nomes[i] = nomes[i].capitalize()\n",
        "  sobrenomes[i] = sobrenomes[i].capitalize()\n",
        "  print(f\"Nome completo: {nomes[i]} {sobrenomes[i]}\")"
      ]
    },
    {
      "cell_type": "markdown",
      "metadata": {
        "id": "84QOVBE4sxna"
      },
      "source": [
        "8. Como cientista de dados em um time de futebol, você precisa implementar novas formas de coleta de dados sobre o desempenho de jogadores e do time como um todo. Sua primeira ação é criar uma forma de calcular a pontuação do time no campeonato nacional a partir dos dados de gols marcados e sofridos em cada jogo.\n",
        "\n",
        "Escreva uma função chamada calcula_pontos que recebe como parâmetros duas listas de números inteiros, representando os gols marcados e sofridos pelo time em cada partida do campeonato. A função deve retornar a pontuação do time e o aproveitamento em percentual, levando em consideração que a vitória vale 3 pontos, o empate vale 1 ponto e a derrota 0 pontos."
      ]
    },
    {
      "cell_type": "code",
      "execution_count": null,
      "metadata": {
        "colab": {
          "base_uri": "https://localhost:8080/"
        },
        "id": "M6RW2IMGsylO",
        "outputId": "b8ab9ae5-991c-4ef7-acb1-4cb1248970ac"
      },
      "outputs": [
        {
          "name": "stdout",
          "output_type": "stream",
          "text": [
            "(0, 0, 0)\n"
          ]
        }
      ],
      "source": [
        "gols_marcados = [2, 1, 3, 1, 0]\n",
        "gols_sofridos = [1, 2, 2, 1, 3]\n",
        "\n",
        "pontos = 0\n",
        "empate = 0\n",
        "derrota = 0\n",
        "\n",
        "def calcula_pontos(gols_marcados, gols_sofridos):\n",
        "  for i in range(len(gols_marcados)):\n",
        "    if gols_marcados[i] > gols_sofridos:\n",
        "      return pontos == 3\n",
        "    elif gols_marcados[i] == gols_sofridos:\n",
        "      return empate == 1\n",
        "    elif gols_marcados[i] < gols_sofridos[i]:\n",
        "      return derrota == 0\n",
        "    return\n",
        "\n",
        "print(f'{pontos, empate, derrota}')"
      ]
    },
    {
      "cell_type": "code",
      "execution_count": null,
      "metadata": {
        "colab": {
          "base_uri": "https://localhost:8080/"
        },
        "id": "gmHTpsFHubHa",
        "outputId": "aeabef33-48bd-4713-e1bc-ac42c87ddeac"
      },
      "outputs": [
        {
          "name": "stdout",
          "output_type": "stream",
          "text": [
            "Pontos: 7\n",
            "Aproveitamento: 46.67%\n"
          ]
        }
      ],
      "source": [
        "gols_marcados = [2, 1, 3, 1, 0]\n",
        "gols_sofridos = [1, 2, 2, 1, 3]\n",
        "\n",
        "def calcula_pontos(gols_marcados, gols_sofridos):\n",
        "    pontos = 0\n",
        "    empate = 0\n",
        "    derrota = 0\n",
        "\n",
        "    # Iterando sobre os jogos\n",
        "    for i in range(len(gols_marcados)):\n",
        "        if gols_marcados[i] > gols_sofridos[i]:\n",
        "            pontos += 3  # Vitória\n",
        "        elif gols_marcados[i] == gols_sofridos[i]:\n",
        "            empate += 1  # Empate\n",
        "            pontos += 1  # 1 ponto por empate\n",
        "        else:\n",
        "            derrota += 1  # Derrota\n",
        "\n",
        "    # Calculando o aproveitamento\n",
        "    total_jogos = len(gols_marcados)\n",
        "    aproveitamento = (pontos / (total_jogos * 3)) * 100  # 3 pontos por vitória\n",
        "\n",
        "    return pontos, aproveitamento\n",
        "\n",
        "# Calculando os pontos e o aproveitamento\n",
        "pontos, aproveitamento = calcula_pontos(gols_marcados, gols_sofridos)\n",
        "\n",
        "# Exibindo os resultados\n",
        "print(f'Pontos: {pontos}')\n",
        "print(f'Aproveitamento: {aproveitamento:.2f}%')\n"
      ]
    },
    {
      "cell_type": "markdown",
      "metadata": {
        "id": "sNTDMxnuu92w"
      },
      "source": [
        "9. Você recebeu o desafio de criar um código que calcula os gastos de uma viagem para um das quatro cidades partindo de Recife, sendo elas: Salvador, Fortaleza, Natal e Aracaju.\n",
        "\n",
        "O custo da diária do hotel é de 150 reais em todas elas e o consumo de gasolina na viagem de carro é de 14 km/l, sendo que o valor da gasolina é de 5 reais o litro. O gastos com passeios e alimentação a se fazer em cada uma delas por dia seria de [200, 400, 250, 300], respectivamente.\n",
        "\n",
        "Sabendo que as distâncias entre Recife e cada uma das cidades é de aproximadamente [850, 800, 300, 550] km, crie três funções nas quais: a 1ª função calcule os gastos com hotel (gasto_hotel), a 2ª calcule os gastos com a gasolina (gasto_gasolina) e a 3ª os gastos com passeio e alimentação (gasto_passeio).\n",
        "\n",
        "Para testar, simule uma viagem de 3 dias para Salvador partindo de Recife. Considere a viagem de ida e volta de carro."
      ]
    },
    {
      "cell_type": "code",
      "execution_count": null,
      "metadata": {
        "colab": {
          "base_uri": "https://localhost:8080/"
        },
        "id": "aVJdg3bFslIE",
        "outputId": "7e856398-1d00-457c-c788-f4e0af3fa25d"
      },
      "outputs": [
        {
          "name": "stdout",
          "output_type": "stream",
          "text": [
            "Gasto com hotel: R$ 450.00\n",
            "Gasto com gasolina (ida e volta): R$ 607.14\n",
            "Gasto com passeio e alimentação: R$ 600.00\n",
            "Gasto total da viagem: R$ 1657.14\n"
          ]
        }
      ],
      "source": [
        "def gasto_hotel(num_dias, valor_diaria=150):\n",
        "    return num_dias * valor_diaria\n",
        "\n",
        "def gasto_gasolina(distancia_km, consumo_km_l=14, preco_litro=5):\n",
        "    litros_necessarios = (distancia_km * 2) / consumo_km_l  # ida e volta\n",
        "    return litros_necessarios * preco_litro\n",
        "\n",
        "def gasto_passeio(num_dias, gasto_diario):\n",
        "    return num_dias * gasto_diario\n",
        "\n",
        "# Dados da cidade de Salvador\n",
        "distancia_salvador = 850  # km\n",
        "gasto_diario_salvador = 200  # reais por dia\n",
        "\n",
        "# Simulação da viagem de 3 dias\n",
        "dias_viagem = 3\n",
        "\n",
        "total_hotel = gasto_hotel(dias_viagem)\n",
        "total_gasolina = gasto_gasolina(distancia_salvador)\n",
        "total_passeio = gasto_passeio(dias_viagem, gasto_diario_salvador)\n",
        "\n",
        "gasto_total = total_hotel + total_gasolina + total_passeio\n",
        "\n",
        "print(f\"Gasto com hotel: R$ {total_hotel:.2f}\")\n",
        "print(f\"Gasto com gasolina (ida e volta): R$ {total_gasolina:.2f}\")\n",
        "print(f\"Gasto com passeio e alimentação: R$ {total_passeio:.2f}\")\n",
        "print(f\"Gasto total da viagem: R$ {gasto_total:.2f}\")"
      ]
    },
    {
      "cell_type": "markdown",
      "metadata": {
        "id": "HEr-PHG4szMx"
      },
      "source": [
        "10. Você iniciou um estágio em uma empresa que trabalha com processamento de linguagem natural (NLP). Sua líder requisitou que você criasse um trecho de código que recebe uma frase digitada pela pessoa usuária e filtre apenas as palavras com tamanho maior ou igual a 5, exibindo-as em uma lista. Essa demanda é voltada para a análise do padrão de comportamento de pessoas na escrita de palavras acima dessa quantidade de caracteres.\n",
        "\n",
        "Dica: utilize as funções lambda e filter() para filtrar essas palavras. Lembrando que a função embutida filter() recebe uma função (no nosso exemplo uma função lambda) e filtra um iterável de acordo com a função. Para tratar a frase use replace() para trocar a ',' '.', '!' e '?' por espaço."
      ]
    },
    {
      "cell_type": "code",
      "execution_count": null,
      "metadata": {
        "colab": {
          "base_uri": "https://localhost:8080/"
        },
        "id": "R2IBkvIOszpI",
        "outputId": "214dab0f-eba4-419a-c5a3-e54be74acb66"
      },
      "outputs": [
        {
          "name": "stdout",
          "output_type": "stream",
          "text": [
            "Digite uma frase: estou aprendendo data science\n",
            "Palavras com 5 ou mais letras: ['estou', 'aprendendo', 'science']\n"
          ]
        }
      ],
      "source": [
        "def filtrar_palavras_grandes(frase):\n",
        "    # Substituir pontuações por espaço\n",
        "    frase_tratada = frase.replace(\",\", \" \").replace(\".\", \" \").replace(\"!\", \" \").replace(\"?\", \" \")\n",
        "\n",
        "    # Dividir a frase em palavras\n",
        "    palavras = frase_tratada.split()\n",
        "\n",
        "    # Filtrar palavras com tamanho maior ou igual a 5 usando lambda e filter\n",
        "    palavras_filtradas = list(filter(lambda palavra: len(palavra) >= 5, palavras))\n",
        "\n",
        "    return palavras_filtradas\n",
        "\n",
        "# Exemplo de uso\n",
        "frase_usuario = input(\"Digite uma frase: \")\n",
        "resultado = filtrar_palavras_grandes(frase_usuario)\n",
        "print(\"Palavras com 5 ou mais letras:\", resultado)\n"
      ]
    },
    {
      "cell_type": "markdown",
      "metadata": {
        "id": "NlHD_uQEuj7X"
      },
      "source": [
        "**List Comprehension**\n",
        "\n",
        "A List comprehension é uma forma simples e concisa de criar listas, sendo que essas listas seguirão alguns padrões, via condicionais, laços e outras expressões."
      ]
    },
    {
      "cell_type": "code",
      "execution_count": null,
      "metadata": {
        "id": "WRpMCcJCujkz"
      },
      "outputs": [],
      "source": [
        "notas = [[8.0, 9.0, 10.0], [9.0, 7.0, 6.0], [3.4, 7.0, 7.0], [5.5, 6.6, 8.0], [6.0, 10.0, 9.5]]"
      ]
    },
    {
      "cell_type": "code",
      "execution_count": null,
      "metadata": {
        "id": "6TuFoRuCuspB"
      },
      "outputs": [],
      "source": [
        "def media(lista: list=[0]) -> float:\n",
        "\n",
        "  calculo = sum(lista) / len(lista)\n",
        "\n",
        "  return calculo"
      ]
    },
    {
      "cell_type": "code",
      "execution_count": null,
      "metadata": {
        "id": "b5RlvUwku4t8"
      },
      "outputs": [],
      "source": [
        "# medias = [expressão for item in lista]\n",
        "\n",
        "medias = [round(media(nota),1) for nota in notas]"
      ]
    },
    {
      "cell_type": "code",
      "execution_count": null,
      "metadata": {
        "colab": {
          "base_uri": "https://localhost:8080/"
        },
        "id": "c9IhiTK9vL_c",
        "outputId": "6a20345b-fc15-4f4d-e9de-552cf596c277"
      },
      "outputs": [
        {
          "data": {
            "text/plain": [
              "[9.0, 7.3, 5.8, 6.7, 8.5]"
            ]
          },
          "execution_count": 7,
          "metadata": {},
          "output_type": "execute_result"
        }
      ],
      "source": [
        "medias"
      ]
    },
    {
      "cell_type": "markdown",
      "metadata": {
        "id": "TrlhHMZ1vZ8E"
      },
      "source": [
        "situação 9\n",
        "\n",
        "\n",
        "Agora, precisamos utilizar as médias calculadas no exemplo anterior, pareando com o nome dos estudantes. Isto será necessário para gerar uma lista que selecione aqueles estudantes que possuam uma média final maior ou igual a 8 para concorrer a uma bolsa para o próximo ano letivo.\n",
        "\n",
        "Os dados recebidos correspondem a uma lista de tuplas com os nomes e códigos dos estudantes e a lista de médias calculadas logo acima.\n",
        "\n",
        "Vamos resolver esse desafio?\n",
        "\n",
        "Para facilitar o nosso entendimento do processo vamos trabalhar com uma turma fictícia de 5 estudantes.\n",
        "\n",
        "Dica: Utilize o formato: [expr for item in lista if cond]\n",
        "\n"
      ]
    },
    {
      "cell_type": "code",
      "execution_count": null,
      "metadata": {
        "id": "-gmN9FrmvZpE"
      },
      "outputs": [],
      "source": [
        "nomes = [('João', 'J720'), ('Maria', 'M205'), ('José', 'J371'), ('Cláudia', 'C546'), ('Ana', 'A347')]\n",
        "medias = [9.0, 7.3, 5.8, 6.7, 8.5]\n"
      ]
    },
    {
      "cell_type": "code",
      "execution_count": null,
      "metadata": {
        "colab": {
          "base_uri": "https://localhost:8080/"
        },
        "id": "HNl8kjfJvniv",
        "outputId": "94b4e501-3a50-4950-d120-2d11c6c25c27"
      },
      "outputs": [
        {
          "data": {
            "text/plain": [
              "['João', 'Maria', 'José', 'Cláudia', 'Ana']"
            ]
          },
          "execution_count": 18,
          "metadata": {},
          "output_type": "execute_result"
        }
      ],
      "source": [
        "#gerando lista de nomes (traindo da tupla)\n",
        "\n",
        "nomes = [nome[0] for nome in nomes]\n",
        "nomes"
      ]
    },
    {
      "cell_type": "code",
      "execution_count": null,
      "metadata": {
        "colab": {
          "base_uri": "https://localhost:8080/"
        },
        "id": "JvQFSJV8wVDX",
        "outputId": "b3a4b400-eee0-4651-8e49-84c38f9eefdc"
      },
      "outputs": [
        {
          "data": {
            "text/plain": [
              "[('João', 9.0), ('Maria', 7.3), ('José', 5.8), ('Cláudia', 6.7), ('Ana', 8.5)]"
            ]
          },
          "execution_count": 19,
          "metadata": {},
          "output_type": "execute_result"
        }
      ],
      "source": [
        "estudantes = list(zip(nomes, medias))\n",
        "estudantes"
      ]
    },
    {
      "cell_type": "code",
      "execution_count": null,
      "metadata": {
        "colab": {
          "base_uri": "https://localhost:8080/"
        },
        "id": "0dUebWvmwgXi",
        "outputId": "883e728b-6fe1-402a-dec4-16210f5421b3"
      },
      "outputs": [
        {
          "data": {
            "text/plain": [
              "['João', 'Ana']"
            ]
          },
          "execution_count": 20,
          "metadata": {},
          "output_type": "execute_result"
        }
      ],
      "source": [
        "candidatos = [estudante[0] for estudante in estudantes if estudante[1] >= 8.0]\n",
        "candidatos"
      ]
    },
    {
      "cell_type": "markdown",
      "metadata": {
        "id": "nUT7z3_dxylF"
      },
      "source": [
        "List comprehension com if-else\n",
        "\n",
        "cadastro = [x for x in [nomes, notas, medias]]\n",
        "cadastro"
      ]
    },
    {
      "cell_type": "code",
      "execution_count": null,
      "metadata": {
        "id": "WE2b6cU8R3S1"
      },
      "outputs": [],
      "source": [
        "lista_completa = [[('João', 'J720'), ('Maria', 'M205'), ('José', 'J371'), ('Cláudia', 'C546'), ('Ana', 'A347')],\n",
        "                  [[8.0, 9.0, 10.0], [9.0, 7.0, 6.0], [3.4, 7.0, 7.0], [5.5, 6.6, 8.0], [6.0, 10.0, 9.5]],\n",
        "                  [9.0, 7.3, 5.8, 6.7, 8.5],\n",
        "                  ['Aprovado', 'Aprovado', 'Reprovado', 'Aprovado', 'Aprovado']]"
      ]
    },
    {
      "cell_type": "code",
      "execution_count": null,
      "metadata": {
        "colab": {
          "base_uri": "https://localhost:8080/"
        },
        "id": "nQK_AvcMR42V",
        "outputId": "a2199b4c-3450-4f1b-98af-65b92d521ea4"
      },
      "outputs": [
        {
          "data": {
            "text/plain": [
              "{'Notas': [[8.0, 9.0, 10.0],\n",
              "  [9.0, 7.0, 6.0],\n",
              "  [3.4, 7.0, 7.0],\n",
              "  [5.5, 6.6, 8.0],\n",
              "  [6.0, 10.0, 9.5]],\n",
              " 'Media Final': [9.0, 7.3, 5.8, 6.7, 8.5],\n",
              " 'Situação': ['Aprovado', 'Aprovado', 'Reprovado', 'Aprovado', 'Aprovado']}"
            ]
          },
          "execution_count": 7,
          "metadata": {},
          "output_type": "execute_result"
        }
      ],
      "source": [
        "# colunas com os tipos dos dados (exceto nome)\n",
        "coluna = [\"Notas\", \"Media Final\", \"Situação\"]\n",
        "\n",
        "cadastro = {coluna[i]: lista_completa[i+1] for i in range(len(coluna))}\n",
        "\n",
        "cadastro"
      ]
    },
    {
      "cell_type": "code",
      "execution_count": null,
      "metadata": {
        "colab": {
          "base_uri": "https://localhost:8080/"
        },
        "id": "KA95UVfsSS8D",
        "outputId": "55b67ace-1aa8-4bc4-d73c-5de82c177fbd"
      },
      "outputs": [
        {
          "data": {
            "text/plain": [
              "{'Notas': [[8.0, 9.0, 10.0],\n",
              "  [9.0, 7.0, 6.0],\n",
              "  [3.4, 7.0, 7.0],\n",
              "  [5.5, 6.6, 8.0],\n",
              "  [6.0, 10.0, 9.5]],\n",
              " 'Media Final': [9.0, 7.3, 5.8, 6.7, 8.5],\n",
              " 'Situação': ['Aprovado', 'Aprovado', 'Reprovado', 'Aprovado', 'Aprovado'],\n",
              " 'Estudante': ['João', 'Maria', 'José', 'Cláudia', 'Ana']}"
            ]
          },
          "execution_count": 9,
          "metadata": {},
          "output_type": "execute_result"
        }
      ],
      "source": [
        "# por fim adcionar o nome dos estudantes, extraindo apenas seus nomes\n",
        "\n",
        "cadastro[\"Estudante\"] = [lista_completa[0][i][0] for i in range(len(lista_completa[0]))]\n",
        "\n",
        "cadastro"
      ]
    },
    {
      "cell_type": "markdown",
      "metadata": {
        "id": "KaMeW4UGT8AB"
      },
      "source": [
        "Revisar: Dict comprehension\n",
        "\n",
        "curso: Python para Data Science: trabalhando com funções, estrututuras de dados e exceções\n",
        "\n",
        "aula atual: 03. Estruturas de dados\n",
        "\n",
        "video: Dict comprehension\n",
        "\n",
        "{expressao_chave: expressao_valor for item in iteravel if condicao}"
      ]
    },
    {
      "cell_type": "code",
      "execution_count": null,
      "metadata": {
        "id": "0d_KeZNoUJlQ"
      },
      "outputs": [],
      "source": [
        "#{expressao_chave: expressao_valor for item in iteravel if condicao}\n",
        "\n"
      ]
    },
    {
      "cell_type": "markdown",
      "metadata": {
        "id": "bMue9ayDdCWQ"
      },
      "source": [
        "**Desafio: hora da prática**\n",
        "\n",
        "**Aquecimento**\n",
        "\n",
        "**1. Crie um código para imprimir a soma dos elementos de cada uma das listas contidas na seguinte lista:**"
      ]
    },
    {
      "cell_type": "code",
      "execution_count": null,
      "metadata": {
        "colab": {
          "base_uri": "https://localhost:8080/"
        },
        "id": "f_Wefhb9dCKm",
        "outputId": "b99d3b1f-4af3-4667-a6cc-b9e172e8503f"
      },
      "outputs": [
        {
          "name": "stdout",
          "output_type": "stream",
          "text": [
            "[24, 10, 16]\n"
          ]
        }
      ],
      "source": [
        "lista_de_listas = [[4, 6, 5, 9], [1, 0, 7, 2], [3, 4, 1, 8]]\n",
        "\n",
        "somas = [sum(sublista) for sublista in lista_de_listas]\n",
        "\n",
        "print(somas)\n"
      ]
    },
    {
      "cell_type": "markdown",
      "metadata": {
        "id": "9X4P2O50d0zH"
      },
      "source": [
        "**2. Crie um código para gerar uma lista que armazena o terceiro elemento de cada tupla contida na seguinte lista de tuplas:**"
      ]
    },
    {
      "cell_type": "code",
      "execution_count": null,
      "metadata": {
        "colab": {
          "base_uri": "https://localhost:8080/"
        },
        "id": "03qo-FBNd0Yv",
        "outputId": "2d620732-a7b6-483c-e0de-8824fac2b763"
      },
      "outputs": [
        {
          "name": "stdout",
          "output_type": "stream",
          "text": [
            "[81, 67, 83]\n"
          ]
        }
      ],
      "source": [
        "lista_de_tuplas = [('Pedro', 1.74, 81), ('Júlia', 1.65, 67), ('Otávio', 1.81, 83)]\n",
        "\n",
        "terceiros_elementos = [tupla[2] for tupla in lista_de_tuplas]\n",
        "\n",
        "print(terceiros_elementos)\n"
      ]
    },
    {
      "cell_type": "code",
      "execution_count": null,
      "metadata": {
        "colab": {
          "base_uri": "https://localhost:8080/"
        },
        "id": "c7MU11wbeAun",
        "outputId": "104864e7-c400-48d9-a024-87703bbcad96"
      },
      "outputs": [
        {
          "data": {
            "text/plain": [
              "[81, 67, 83]"
            ]
          },
          "execution_count": 15,
          "metadata": {},
          "output_type": "execute_result"
        }
      ],
      "source": [
        "lista_de_tuplas = [('Pedro', 1.74, 81), ('Júlia', 1.65, 67), ('Otávio', 1.81, 83)]\n",
        "\n",
        "terceiros_elementos = [tupla[2] for tupla in lista_de_tuplas]\n",
        "\n",
        "terceiros_elementos"
      ]
    },
    {
      "cell_type": "markdown",
      "metadata": {
        "id": "obKnH067eOm3"
      },
      "source": [
        "**3. A partir da lista: lista = ['Pedro', 'Júlia', 'Otávio', 'Eduardo'], crie um código para gerar uma lista de tuplas em que cada tupla tenha o primeiro elemento como a posição do nome na lista original e o segundo elemento sendo o próprio nome.**"
      ]
    },
    {
      "cell_type": "code",
      "execution_count": null,
      "metadata": {
        "colab": {
          "base_uri": "https://localhost:8080/"
        },
        "id": "k3M2e06aeOWz",
        "outputId": "973203e6-ec9b-4220-d012-2a17ab0ed66b"
      },
      "outputs": [
        {
          "data": {
            "text/plain": [
              "[{(0, 'Pedro'), (1, 'Júlia'), (2, 'Otávio'), (3, 'Eduardo')}]"
            ]
          },
          "execution_count": 22,
          "metadata": {},
          "output_type": "execute_result"
        }
      ],
      "source": [
        "lista = ['Pedro', 'Júlia', 'Otávio', 'Eduardo']\n",
        "\n",
        "tupla = [{(i, nome) for i, nome in enumerate(lista)}]\n",
        "\n",
        "tupla\n"
      ]
    },
    {
      "cell_type": "markdown",
      "metadata": {
        "id": "Bl8NtBvbZ_xU"
      },
      "source": [
        "**4. Crie uma lista usando o list comprehension que armazena somente o valor numérico de cada tupla caso o primeiro elemento seja 'Apartamento', a partir da seguinte lista de tuplas:**\n",
        "\n"
      ]
    },
    {
      "cell_type": "code",
      "execution_count": null,
      "metadata": {
        "colab": {
          "base_uri": "https://localhost:8080/"
        },
        "id": "O8scTZL2aE_h",
        "outputId": "77f11d8a-ffbf-4137-cbd1-cb57825bfb1f"
      },
      "outputs": [
        {
          "name": "stdout",
          "output_type": "stream",
          "text": [
            "[1700, 1400, 1900]\n"
          ]
        }
      ],
      "source": [
        "aluguel = [('Apartamento', 1700), ('Apartamento', 1400), ('Casa', 2150), ('Apartamento', 1900), ('Casa', 1100)]\n",
        "valores_apartamentos = [valor for tipo, valor in aluguel if tipo == 'Apartamento']\n",
        "print(valores_apartamentos)\n"
      ]
    },
    {
      "cell_type": "markdown",
      "metadata": {
        "id": "MuhzvpjxaOqv"
      },
      "source": [
        "**5. Crie um dicionário usando o dict comprehension em que as chaves estão na lista meses = ['Jan', 'Fev', 'Mar', 'Abr', 'Mai', 'Jun', 'Jul', 'Ago', 'Set', 'Out', 'Nov', 'Dez'] e os valores estão em despesa = [860, 490, 1010, 780, 900, 630, 590, 770, 620, 560, 840, 360]**"
      ]
    },
    {
      "cell_type": "code",
      "execution_count": null,
      "metadata": {
        "colab": {
          "base_uri": "https://localhost:8080/"
        },
        "id": "QcQeuQT8aRK9",
        "outputId": "87c502a6-38a8-4103-9021-d284ae3dc18c"
      },
      "outputs": [
        {
          "name": "stdout",
          "output_type": "stream",
          "text": [
            "{'Jan': 860, 'Fev': 490, 'Mar': 1010, 'Abr': 780, 'Mai': 900, 'Jun': 630, 'Jul': 590, 'Ago': 770, 'Set': 620, 'Out': 560, 'Nov': 840, 'Dez': 360}\n"
          ]
        }
      ],
      "source": [
        "meses = ['Jan', 'Fev', 'Mar', 'Abr', 'Mai', 'Jun', 'Jul', 'Ago', 'Set', 'Out', 'Nov', 'Dez']\n",
        "despesa = [860, 490, 1010, 780, 900, 630, 590, 770, 620, 560, 840, 360]\n",
        "dicionario_despesas = {mes: valor for mes, valor in zip(meses, despesa)}\n",
        "print(dicionario_despesas)\n"
      ]
    },
    {
      "cell_type": "markdown",
      "metadata": {
        "id": "hI9nHTl-aQ3E"
      },
      "source": [
        "**6. Uma loja possui um banco de dados com a informação de venda de cada representante e de cada ano e precisa filtrar somente os dados do ano 2022 com venda maior do que 6000. A loja forneceu uma amostra contendo apenas as colunas com os anos e os valores de venda para que você ajude a realizar a filtragem dos dados a partir de um código:**"
      ]
    },
    {
      "cell_type": "code",
      "execution_count": null,
      "metadata": {
        "colab": {
          "base_uri": "https://localhost:8080/"
        },
        "id": "O18yYrTmaWj3",
        "outputId": "f3e41e13-d4ec-4256-885f-ef67de444e57"
      },
      "outputs": [
        {
          "name": "stdout",
          "output_type": "stream",
          "text": [
            "[8883, 7688, 9544, 8190]\n"
          ]
        }
      ],
      "source": [
        "vendas = [('2023', 4093), ('2021', 4320), ('2021', 5959), ('2022', 8883), ('2023', 9859),\n",
        "          ('2022', 5141), ('2022', 7688), ('2022', 9544), ('2023', 4794), ('2021', 7178),\n",
        "          ('2022', 3030), ('2021', 7471), ('2022', 4226), ('2022', 8190), ('2021', 9680), ('2022', 5616)]\n",
        "\n",
        "vendas_filtradas = [venda for ano, venda in vendas if ano == '2022' and venda > 6000]\n",
        "print(vendas_filtradas)\n"
      ]
    },
    {
      "cell_type": "markdown",
      "metadata": {
        "id": "O3odnOB36ysA"
      },
      "source": [
        "**7. Uma clínica analisa dados de pacientes e armazena o valor numérico da glicose em um banco de dados e gostaria de rotular os dados da seguinte maneira:**\n",
        "\n",
        "\n",
        "\n",
        "*   Glicose igual ou inferior a 70: 'Hipoglicemia'\n",
        "*   Glicose entre 70 a 99: 'Normal'\n",
        "*   Glicose entre 100 e 125: 'Alterada'\n",
        "*   Glicose superior a 125: 'Diabetes'\n",
        "*   A clínica disponibilizou parte dos valores e sua tarefa é criar uma lista de tuplas usando list comprehension contendo o rótulo e o valor da glicemia em cada tupla.\n",
        "\n",
        "\n",
        "A clínica disponibilizou parte dos valores e sua tarefa é criar uma lista de tuplas usando list comprehension contendo o rótulo e o valor da glicemia em cada tupla."
      ]
    },
    {
      "cell_type": "code",
      "execution_count": null,
      "metadata": {
        "colab": {
          "base_uri": "https://localhost:8080/"
        },
        "id": "xv30fc6_7LX2",
        "outputId": "d58aaf0a-ede2-4c5d-e72e-b33c84ad60b8"
      },
      "outputs": [
        {
          "name": "stdout",
          "output_type": "stream",
          "text": [
            "[('Diabetes', 129), ('Normal', 82), ('Hipoglicemia', 60), ('Normal', 97), ('Alterada', 101), ('Hipoglicemia', 65), ('Hipoglicemia', 62), ('Diabetes', 167), ('Normal', 87), ('Hipoglicemia', 53), ('Hipoglicemia', 58), ('Normal', 92), ('Hipoglicemia', 66), ('Alterada', 120), ('Alterada', 109), ('Hipoglicemia', 62), ('Normal', 86), ('Normal', 96), ('Alterada', 103), ('Normal', 88), ('Diabetes', 155), ('Hipoglicemia', 52), ('Normal', 89), ('Normal', 73)]\n"
          ]
        }
      ],
      "source": [
        "glicemia = [129, 82, 60, 97, 101, 65, 62, 167, 87, 53, 58, 92, 66, 120, 109,\n",
        "            62, 86, 96, 103, 88, 155, 52, 89, 73]\n",
        "\n",
        "rotulos = [\n",
        "    ('Hipoglicemia' if val <= 70 else\n",
        "     'Normal' if val <= 99 else\n",
        "     'Alterada' if val <= 125 else\n",
        "     'Diabetes', val)\n",
        "    for val in glicemia\n",
        "]\n",
        "print(rotulos)\n"
      ]
    },
    {
      "cell_type": "markdown",
      "metadata": {
        "id": "tvOQw5F37K-u"
      },
      "source": [
        "**8. Um e-commerce possui as informações de id de venda, quantidade vendida e preço do produto divididos nas seguintes listas:**\n",
        "\n",
        "O e-commerce precisa estruturar esses dados em uma tabela contendo o valor total da venda, que é obtida multiplicando a quantidade pelo preço unitário. Além disso, a tabela precisa conter um cabeçalho indicando as colunas: 'id', 'quantidade', 'preco' e 'total'.\n",
        "\n",
        "Crie uma lista de tuplas em que cada tupla tenha id, quantidade, preço e valor total, na qual a primeira tupla é o cabeçalho da tabela."
      ]
    },
    {
      "cell_type": "code",
      "execution_count": null,
      "metadata": {
        "colab": {
          "base_uri": "https://localhost:8080/"
        },
        "id": "Th3N1Cr07R-9",
        "outputId": "9001c69e-4cbf-4a93-ad28-9be2f705a5b7"
      },
      "outputs": [
        {
          "name": "stdout",
          "output_type": "stream",
          "text": [
            "[('id', 'quantidade', 'preco', 'total'), (0, 15, 93.0, 1395.0), (1, 12, 102.0, 1224.0), (2, 1, 18.0, 18.0), (3, 15, 41.0, 615.0), (4, 2, 122.0, 244.0), (5, 11, 14.0, 154.0), (6, 2, 71.0, 142.0), (7, 12, 48.0, 576.0), (8, 2, 14.0, 28.0), (9, 4, 144.0, 576.0)]\n"
          ]
        }
      ],
      "source": [
        "id = [0, 1, 2, 3, 4, 5, 6, 7, 8, 9]\n",
        "quantidade = [15, 12, 1, 15, 2, 11, 2, 12, 2, 4]\n",
        "preco = [93.0, 102.0, 18.0, 41.0, 122.0, 14.0, 71.0, 48.0, 14.0, 144.0]\n",
        "\n",
        "tabela = [('id', 'quantidade', 'preco', 'total')] + [\n",
        "    (i, q, p, q * p) for i, q, p in zip(id, quantidade, preco)\n",
        "]\n",
        "print(tabela)\n"
      ]
    },
    {
      "cell_type": "markdown",
      "metadata": {
        "id": "JAG0dThf7T4R"
      },
      "source": [
        "**9. Uma empresa possui filiais espalhadas nos Estados da região Sudeste do Brasil. Em uma das tabelas de cadastro das filiais há uma coluna contendo a informação de qual é o Estado a que pertence: estados = ['SP', 'ES', 'MG', 'MG', 'SP', 'MG', 'ES', 'ES', 'ES', 'SP', 'SP', 'MG', 'ES', 'SP', 'RJ', 'MG', 'RJ', 'SP', 'MG', 'SP', 'ES', 'SP', 'MG'].**\n",
        "\n",
        "**A empresa sempre está abrindo novas filiais, de modo que a tabela está constantemente recebendo novos registros e o gestor gostaria de possuir a informação atualizada da quantidade de filiais em cada Estado.**\n",
        "\n",
        "**A partir da coluna com a informação dos Estados, crie um dicionário usando dict comprehension com a chave sendo o nome de um Estado e o valor sendo a contagem de vezes em que o Estado aparece na lista.**"
      ]
    },
    {
      "cell_type": "code",
      "execution_count": null,
      "metadata": {
        "colab": {
          "base_uri": "https://localhost:8080/"
        },
        "id": "FiEfF0bW7c0i",
        "outputId": "479637ab-7452-4e26-b0bf-1f67c5c0050e"
      },
      "outputs": [
        {
          "name": "stdout",
          "output_type": "stream",
          "text": [
            "{'RJ': 2, 'ES': 6, 'MG': 7, 'SP': 8}\n"
          ]
        }
      ],
      "source": [
        "from collections import Counter\n",
        "\n",
        "estados = ['SP', 'ES', 'MG', 'MG', 'SP', 'MG', 'ES', 'ES', 'ES', 'SP', 'SP',\n",
        "           'MG', 'ES', 'SP', 'RJ', 'MG', 'RJ', 'SP', 'MG', 'SP', 'ES', 'SP', 'MG']\n",
        "\n",
        "contagem_estados = {estado: estados.count(estado) for estado in set(estados)}\n",
        "print(contagem_estados)\n"
      ]
    },
    {
      "cell_type": "markdown",
      "metadata": {
        "id": "592K74SK7hic"
      },
      "source": [
        "**10. Nessa mesma tabela de cadastro de filiais, há uma coluna com as informações da quantidade de pessoas colaboradoras e o(a) gestor(a) gostaria de ter um agrupamento da soma dessas pessoas para cada estado. As informações contidas na tabela são:**\n",
        "\n",
        "**A partir da lista de tuplas, crie um dicionário em que as chaves são os nomes dos Estados únicos e os valores são as listas com o número de colaboradores(as) referentes ao Estado. Crie também um dicionário em que as chaves são os nomes dos Estados e os valores são a soma de colaboradores(as) por Estado.**"
      ]
    },
    {
      "cell_type": "code",
      "execution_count": null,
      "metadata": {
        "colab": {
          "base_uri": "https://localhost:8080/"
        },
        "id": "NKs23gQJ7mD3",
        "outputId": "bcd3d0c7-e5ea-4447-9f9e-e0e9b51d8d45"
      },
      "outputs": [
        {
          "name": "stdout",
          "output_type": "stream",
          "text": [
            "Agrupado: {'SP': [16, 10, 7, 11, 9, 12, 7, 10], 'ES': [8, 9, 7, 12, 8, 14], 'MG': [9, 6, 4, 8, 5, 10, 12], 'RJ': [13, 9]}\n",
            "Soma: {'SP': 82, 'ES': 58, 'MG': 54, 'RJ': 22}\n"
          ]
        }
      ],
      "source": [
        "funcionarios = [('SP', 16), ('ES', 8), ('MG', 9), ('MG', 6), ('SP', 10), ('MG', 4),\n",
        "                ('ES', 9), ('ES', 7), ('ES', 12), ('SP', 7), ('SP', 11), ('MG', 8),\n",
        "                ('ES', 8), ('SP', 9), ('RJ', 13), ('MG', 5), ('RJ', 9), ('SP', 12),\n",
        "                ('MG', 10), ('SP', 7), ('ES', 14), ('SP', 10), ('MG', 12)]\n",
        "\n",
        "# Agrupamento\n",
        "agrupado = {}\n",
        "for estado, num in funcionarios:\n",
        "    if estado not in agrupado:\n",
        "        agrupado[estado] = []\n",
        "    agrupado[estado].append(num)\n",
        "\n",
        "# Soma por estado\n",
        "somas = {estado: sum(valores) for estado, valores in agrupado.items()}\n",
        "\n",
        "print(\"Agrupado:\", agrupado)\n",
        "print(\"Soma:\", somas)\n"
      ]
    },
    {
      "cell_type": "markdown",
      "metadata": {
        "id": "WHvIKcuX7sQO"
      },
      "source": [
        "**Nessa aula, você aprendeu a:**\n",
        "\n",
        "1.    Criar listas de listas e listas de tuplas.\n",
        "2.    Acessar e extrair listas e elementos de uma lista de listas.\n",
        "3.    Criar listas de diversas formas por meio do list comprehension.\n",
        "4.    Criar dicionários por meio do dict comprehension.\n",
        "5.    Trabalhar com listas de listas em dicionários.\n",
        "6.    Gerar um novo registro chave/valor em um dicionário.\n",
        "\n",
        "\n",
        "\n",
        "\n"
      ]
    },
    {
      "cell_type": "markdown",
      "metadata": {
        "id": "bKmvA0OuVUtu"
      },
      "source": []
    },
    {
      "cell_type": "code",
      "execution_count": null,
      "metadata": {
        "id": "kGhqgpqwVUW-"
      },
      "outputs": [],
      "source": [
        "notas = {'João': [8.0, 9.0, 10.0], 'Maria': [9.0, 7.0, 6.0], 'José': [3.4, 7.0, 8.0],'Cláudia': [5.5, 6.6, 8.0], 'Ana': [6.0, 10.0, 9.5], 'Joaquim': [5.5, 7.5, 9.0], 'Júlia': [6.0, 8.0, 7.0], 'Pedro': [3.0, 4.0, 6.0]}"
      ]
    },
    {
      "cell_type": "code",
      "execution_count": null,
      "metadata": {
        "id": "ig8JT0P-VdlI"
      },
      "outputs": [],
      "source": [
        "nome = input(\"Digite o nome do estudante: \")\n",
        "\n",
        "resultado = notas[nome]\n",
        "resultado"
      ]
    },
    {
      "cell_type": "code",
      "execution_count": null,
      "metadata": {
        "colab": {
          "base_uri": "https://localhost:8080/"
        },
        "id": "8ZzLJItOVvEr",
        "outputId": "2faafd62-e2cd-4826-bc98-8e084551e465"
      },
      "outputs": [
        {
          "name": "stdout",
          "output_type": "stream",
          "text": [
            "Digite o nome do estudante: joao\n",
            "<class 'KeyError'> Erro: 'joao'\n"
          ]
        }
      ],
      "source": [
        "try:\n",
        "  nome = nome = input(\"Digite o nome do estudante: \")\n",
        "  resultado = notas[nome]\n",
        "\n",
        "except Exception as e:\n",
        "  print(type(e), f'Erro: {e}')"
      ]
    },
    {
      "cell_type": "code",
      "execution_count": null,
      "metadata": {
        "colab": {
          "base_uri": "https://localhost:8080/"
        },
        "id": "Rf7uIdDBWLQO",
        "outputId": "979ef95d-b869-42ea-96a2-dd79dafcb8e4"
      },
      "outputs": [
        {
          "name": "stdout",
          "output_type": "stream",
          "text": [
            "Digite o nome do estudante: Joaquim\n",
            "[5.5, 7.5, 9.0]\n"
          ]
        }
      ],
      "source": [
        "try:\n",
        "  nome = nome = input(\"Digite o nome do estudante: \")\n",
        "  resultado = notas[nome]\n",
        "\n",
        "except KeyError:\n",
        "  print(\"Estudante não matrciulado na turma\")\n",
        "\n",
        "else:\n",
        "  print(resultado)"
      ]
    },
    {
      "cell_type": "markdown",
      "metadata": {
        "id": "eqq4kxWlXLjo"
      },
      "source": [
        "utlizando\n",
        "\n",
        "try, except, else, finally"
      ]
    },
    {
      "cell_type": "code",
      "execution_count": null,
      "metadata": {
        "id": "JNXfibm7XMBg"
      },
      "outputs": [],
      "source": [
        "try:\n",
        "  nome = nome = input(\"Digite o nome do estudante: \")\n",
        "  resultado = notas[nome]\n",
        "\n",
        "except KeyError:\n",
        "  print(\"Estudante não matrciulado na turma\")\n",
        "\n",
        "else:\n",
        "  print(resultado)\n",
        "\n",
        "finally:\n",
        "  print(\"A consulta foi encerrada!\")"
      ]
    },
    {
      "cell_type": "code",
      "execution_count": null,
      "metadata": {
        "id": "Uk2tLk1RYPbR"
      },
      "outputs": [],
      "source": [
        "raise ValueError(\"A lista de notas deve possuir dez elementos\")"
      ]
    },
    {
      "cell_type": "code",
      "execution_count": null,
      "metadata": {
        "id": "QYbOQFx8YYIi"
      },
      "outputs": [],
      "source": [
        "def media(lista: list=[0]) -> float:\n",
        "  '''Função para calcular a média de notas passadas por uma lista\n",
        "\n",
        "  lista: list, default[0]\n",
        "    Lista com as notas para calcular a média\n",
        "    return calculo: float\n",
        "    Média calculada\n",
        "  '''\n",
        "\n",
        "calculo = sum(lista) / len(lista)\n",
        "\n",
        "if len(lista) > 4:\n",
        "  raise ValueError(\"A lista não pode possuir mais que quatro notas\")\n",
        "\n",
        "return calculo"
      ]
    },
    {
      "cell_type": "code",
      "execution_count": null,
      "metadata": {
        "id": "q0zaJsm9Yrk8"
      },
      "outputs": [],
      "source": [
        "notas = [6, 7, 8, 8]\n",
        "resultado = media(notas)\n",
        "resultado"
      ]
    },
    {
      "cell_type": "markdown",
      "metadata": {
        "id": "9C5ClAeoUiKR"
      },
      "source": [
        "**1. Faça um programa que solicite à pessoa usuária digitar dois números float e calcular a divisão entre esses números. O código deve conter um tratamento de erro, indicando o tipo de erro que foi gerado caso a divisão não seja possível de realizar.**\n",
        "\n",
        "**Teste o programa com o segundo valor numérico do input igual a 0. Também teste utilizando caracteres textuais no input para checar os tipos de erro que ocorrem.**"
      ]
    },
    {
      "cell_type": "code",
      "execution_count": null,
      "metadata": {
        "colab": {
          "base_uri": "https://localhost:8080/"
        },
        "id": "JPHSUT_MUibF",
        "outputId": "3f650777-9bc9-442b-9ae8-17fcca2efc2e"
      },
      "outputs": [
        {
          "name": "stdout",
          "output_type": "stream",
          "text": [
            "Digite o primeiro número: 12\n",
            "Digite o segundo número: 0\n",
            "Erro de divisão por zero: float division by zero\n"
          ]
        }
      ],
      "source": [
        "try:\n",
        "    num1 = float(input(\"Digite o primeiro número: \"))\n",
        "    num2 = float(input(\"Digite o segundo número: \"))\n",
        "    resultado = num1 / num2\n",
        "    print(f\"Resultado da divisão: {resultado}\")\n",
        "except ValueError as e:\n",
        "    print(f\"Erro de valor: {e}\")\n",
        "except ZeroDivisionError as e:\n",
        "    print(f\"Erro de divisão por zero: {e}\")\n"
      ]
    },
    {
      "cell_type": "markdown",
      "metadata": {
        "id": "ypO79uoXU0cp"
      },
      "source": [
        "**2. Faça um programa que solicite à pessoa usuária digitar um texto que será uma chave a ser pesquisada no seguinte dicionário: idades = {'Júlia': 16, 'Carol': 23, 'Alberto': 19, 'Roberta':** **17}, armazenando o resultado do valor em uma variável. O código deve conter um tratamento de erro KeyError, imprimindo a informação 'Nome não encontrado', caso ocorra o erro; e imprimir o valor caso não ocorra nenhum.**\n",
        "\n",
        "**Teste o programa com um nome presente em uma das chaves do dicionário e com um que não esteja no dicionário para verificar a mensagem de erro.**"
      ]
    },
    {
      "cell_type": "code",
      "execution_count": null,
      "metadata": {
        "colab": {
          "base_uri": "https://localhost:8080/"
        },
        "id": "aiJRlDerU0t6",
        "outputId": "8cd2520f-5fc0-4a5a-d986-ffd488406159"
      },
      "outputs": [
        {
          "name": "stdout",
          "output_type": "stream",
          "text": [
            "Digite o nome para buscar a idade: Carol\n",
            "Carol tem 23 anos.\n"
          ]
        }
      ],
      "source": [
        "idades = {'Júlia': 16, 'Carol': 23, 'Alberto': 19, 'Roberta': 17}\n",
        "nome = input(\"Digite o nome para buscar a idade: \")\n",
        "\n",
        "try:\n",
        "    idade = idades[nome]\n",
        "    print(f\"{nome} tem {idade} anos.\")\n",
        "except KeyError:\n",
        "    print(\"Nome não encontrado.\")\n"
      ]
    },
    {
      "cell_type": "markdown",
      "metadata": {
        "id": "5ve7HOX3VB98"
      },
      "source": [
        "**3. Crie uma função que recebe uma lista como parâmetro e converta todos os valores da lista para float. A função deve conter um tratamento de erro indicando o tipo de erro gerado e retornar a lista caso não tenha ocorrido nenhum erro. Por fim, deve ter a cláusula finally para imprimir o texto: 'Fim da execução da função'.**"
      ]
    },
    {
      "cell_type": "code",
      "execution_count": null,
      "metadata": {
        "colab": {
          "base_uri": "https://localhost:8080/"
        },
        "id": "vtJGVKdyVC47",
        "outputId": "19f87f4a-8d0f-4952-ba83-ed7cd6701c47"
      },
      "outputs": [
        {
          "name": "stdout",
          "output_type": "stream",
          "text": [
            "Erro ao converter: could not convert string to float: 'a'\n",
            "Fim da execução da função\n",
            "None\n"
          ]
        }
      ],
      "source": [
        "def converter_lista_para_float(lista):\n",
        "    try:\n",
        "        return [float(item) for item in lista]\n",
        "    except Exception as e:\n",
        "        print(f\"Erro ao converter: {e}\")\n",
        "    finally:\n",
        "        print(\"Fim da execução da função\")\n",
        "\n",
        "# Exemplo de teste\n",
        "print(converter_lista_para_float(['1.5', '2.3', '2.2', 'a']))"
      ]
    },
    {
      "cell_type": "markdown",
      "metadata": {
        "id": "uD6hrA9UVd_l"
      },
      "source": [
        "**4. Crie uma função que recebe duas listas como parâmetros e agrupe os elementos um a um das listas, formando uma lista de tuplas de 3 elementos, no qual o primeiro e segundo elemento da tupla são os valores na posição i das listas e o terceiro elemento é a soma dos valores na posição i das listas.**\n",
        "\n",
        "**A função deve conter um tratamento de erro indicando o tipo de erro gerado e retornar como resultado a lista de tuplas. Caso as listas enviadas como parâmetro tenham tamanhos diferentes, a função deve retornar um IndexError com a frase: 'A quantidade de elementos em cada lista é diferente.' Dados para testar a função:**"
      ]
    },
    {
      "cell_type": "code",
      "execution_count": null,
      "metadata": {
        "colab": {
          "base_uri": "https://localhost:8080/"
        },
        "id": "2ej2hYGwVdvU",
        "outputId": "b8c4f394-4bf4-479c-8d13-d2f4620ccd0a"
      },
      "outputs": [
        {
          "name": "stdout",
          "output_type": "stream",
          "text": [
            "[(4, -4, 0), (6, 6, 12), (7, 8, 15), (9, 7, 16), (10, 9, 19)]\n",
            "Erro: A quantidade de elementos em cada lista é diferente.\n",
            "None\n",
            "Erro: unsupported operand type(s) for +: 'int' and 'str'\n",
            "None\n"
          ]
        }
      ],
      "source": [
        "def agrupar_listas(lista1, lista2):\n",
        "    try:\n",
        "        if len(lista1) != len(lista2):\n",
        "            raise IndexError('A quantidade de elementos em cada lista é diferente.')\n",
        "        resultado = [(lista1[i], lista2[i], lista1[i] + lista2[i]) for i in range(len(lista1))]\n",
        "        return resultado\n",
        "    except Exception as e:\n",
        "        print(f\"Erro: {e}\")\n",
        "\n",
        "# Exemplos:\n",
        "print(agrupar_listas([4,6,7,9,10], [-4,6,8,7,9]))  # Sem erro\n",
        "print(agrupar_listas([4,6,7,9,10,4], [-4,6,8,7,9]))  # Tamanho diferente\n",
        "print(agrupar_listas([4,6,7,9,'A'], [-4,'E',8,7,9]))  # Valores incoerentes\n"
      ]
    },
    {
      "cell_type": "markdown",
      "metadata": {
        "id": "sCSAgdAKVrKf"
      },
      "source": [
        "**5. Como desafio, você recebeu a tarefa de desenvolver um código que contabiliza as pontuações de estudantes de uma instituição de ensino de acordo com suas respostas num teste. Este código deve ser testado para um exemplo de 3 estudantes com uma lista de listas em que cada lista possui as respostas de 5 questões objetivas de cada estudante. Cada questão vale um ponto e as alternativas possíveis são A, B, C ou D.**\n",
        "\n",
        "Caso alguma alternativa em um dos testes não esteja entre as alternativas possíveis, você deve lançar um ValueError com a mensagem \"A alternativa [alternativa] não é uma opção de alternativa válida\". O cálculo das 3 notas só será realizado mediante as entradas com as alternativas A, B, C ou D em todos os testes. Se não for lançada a exceção, será exibida uma lista com as notas em cada teste.\n",
        "\n",
        "Os dados para o teste do código são:\n",
        "\n",
        "gabarito = ['D', 'A', 'B', 'C', 'A']\n",
        "\n",
        "testes_sem_ex = [['D', 'A', 'B', 'C', 'A'], ['C', 'A', 'A', 'C', 'A'], ['D', 'B', 'A', 'C', 'A']]\n",
        "\n",
        "testes_com_ex = [['D', 'A', 'B', 'C', 'A'], ['C', 'A', 'A', 'E', 'A'], ['D', 'B', 'A', 'C', 'A']]\n",
        "\n"
      ]
    },
    {
      "cell_type": "code",
      "execution_count": null,
      "metadata": {
        "colab": {
          "base_uri": "https://localhost:8080/"
        },
        "id": "OJq-kKQ7Vq3P",
        "outputId": "07da38dd-10b6-42e1-ef76-8c03f5d8c7d3"
      },
      "outputs": [
        {
          "name": "stdout",
          "output_type": "stream",
          "text": [
            "[(4, -4, 0), (6, 6, 12), (7, 8, 15), (9, 7, 16), (10, 9, 19)]\n",
            "Erro: A quantidade de elementos em cada lista é diferente.\n",
            "None\n",
            "Erro: unsupported operand type(s) for +: 'int' and 'str'\n",
            "None\n"
          ]
        }
      ],
      "source": [
        "def agrupar_listas(lista1, lista2):\n",
        "    try:\n",
        "        if len(lista1) != len(lista2):\n",
        "            raise IndexError('A quantidade de elementos em cada lista é diferente.')\n",
        "        resultado = [(lista1[i], lista2[i], lista1[i] + lista2[i]) for i in range(len(lista1))]\n",
        "        return resultado\n",
        "    except Exception as e:\n",
        "        print(f\"Erro: {e}\")\n",
        "\n",
        "# Exemplos:\n",
        "print(agrupar_listas([4,6,7,9,10], [-4,6,8,7,9]))  # Sem erro\n",
        "print(agrupar_listas([4,6,7,9,10,4], [-4,6,8,7,9]))  # Tamanho diferente\n",
        "print(agrupar_listas([4,6,7,9,'A'], [-4,'E',8,7,9]))  # Valores incoerentes\n"
      ]
    },
    {
      "cell_type": "markdown",
      "metadata": {
        "id": "Xz88H-wqV5hU"
      },
      "source": [
        "**6. Você está trabalhando com processamento de linguagem natural (NLP) e, dessa vez, sua líder requisitou que você criasse um trecho de código que recebe uma lista com as palavras separadas de uma frase gerada pelo ChatGPT.**\n",
        "\n",
        "Você precisa criar uma função que avalia cada palavra desse texto e verificar se o tratamento para retirar os símbolos de pontuação (',' '.', '!' e '?') foi realizado. Caso contrário, será lançada uma exceção do tipo ValueError apontando o 1º caso em que foi detectado o uso de uma pontuação por meio da frase \"O texto apresenta pontuações na palavra \"[palavra]\".\". Essa demanda é voltada para a análise do padrão de frases geradas pela inteligência artificial.\n",
        "\n",
        "Os dados para o teste do código são:\n",
        "\n",
        "lista_tratada = ['Python', 'é', 'uma', 'linguagem', 'de', 'programação', 'poderosa', 'versátil',\n",
        "                  'e', 'fácil', 'de', 'aprender', 'utilizada', 'em', 'diversos', 'campos', 'desde',\n",
        "                  'análise', 'de', 'dados', 'até', 'inteligência', 'artificial']\n",
        "\n",
        "lista_nao_tratada = ['Python', 'é', 'uma', 'linguagem', 'de', 'programação', 'poderosa,', 'versátil',\n",
        "                  'e', 'fácil,', 'de', 'aprender', 'utilizada', 'em', 'diversos', 'campos,', 'desde',\n",
        "                  'análise', 'de', 'dados', 'até', 'inteligência', 'artificial!']"
      ]
    },
    {
      "cell_type": "code",
      "execution_count": null,
      "metadata": {
        "id": "t5x1fi1rWIE_"
      },
      "outputs": [],
      "source": [
        "lista_tratada = ['Python', 'é', 'uma', 'linguagem', 'de', 'programação', 'poderosa', 'versátil',\n",
        "                  'e', 'fácil', 'de', 'aprender', 'utilizada', 'em', 'diversos', 'campos', 'desde',\n",
        "                  'análise', 'de', 'dados', 'até', 'inteligência', 'artificial']\n",
        "\n",
        "lista_nao_tratada = ['Python', 'é', 'uma', 'linguagem', 'de', 'programação', 'poderosa,', 'versátil',\n",
        "                  'e', 'fácil,', 'de', 'aprender', 'utilizada', 'em', 'diversos', 'campos,', 'desde',\n",
        "                  'análise', 'de', 'dados', 'até', 'inteligência', 'artificial!']\n",
        "\n",
        "def verificar_pontuacao(lista_palavras):\n",
        "    for palavra in lista_palavras:\n",
        "        if ',' in palavra or '.' in palavra or '!' in palavra or '?' in palavra:\n",
        "            raise ValueError(f'O texto apresenta pontuações na palavra \"{palavra}\".')\n",
        "    print(\"Texto validado com sucesso.\")\n",
        "\n",
        "# Testes:\n",
        "verificar_pontuacao(lista_tratada)  # Ok\n",
        "verificar_pontuacao(lista_nao_tratada)  # Erro\n"
      ]
    },
    {
      "cell_type": "markdown",
      "metadata": {
        "id": "CFlkxZxWW4IN"
      },
      "source": [
        "**7. Você foi contratado(a) como uma pessoa cientista de dados para auxiliar um laboratório que faz experimentos sobre o comportamento de uma cultura de fungos. O laboratório precisa avaliar constantemente a razão (divisão) entre os dados de pressão e temperatura do ambiente controlado recolhidos durante a experimentação para definir a melhor condição para os testes.**\n",
        "\n",
        "**Para cumprir com a demanda, você precisa criar uma função divide_colunas que recebe os dados das colunas de pressão e temperatura (que vem no formato de listas) e gerar uma nova coluna com o resultado da divisão. Os parâmetros da função são as duas listas e você deve tratar dentro dela ao menos 2 tipos de exceções:**\n",
        "\n",
        "**Verificar se as listas têm o mesmo tamanho (ValueError)\n",
        "Verificar se existe alguma divisão por zero (ZeroDivisionError)\n",
        "Para testar a função, vamos realizar a divisão entre duas listas de dados coletados no experimento, com os valores de pressão e temperatura do ambiente controlado.**\n",
        "\n",
        "Como teste, use os seguintes dados:\n",
        "\n",
        "\n",
        "Dados sem exceção:\n",
        "pressoes = [100, 120, 140, 160, 180]\n",
        "temperaturas = [20, 25, 30, 35, 40]\n",
        "\n",
        "1) Exceção de ZeroDivisionError\n",
        "pressoes = [60, 120, 140, 160, 180]\n",
        "temperaturas = [0, 25, 30, 35, 40]\n",
        "\n",
        "2) Exceção de ValueError\n",
        "pressoes = [100, 120, 140, 160]\n",
        "temperaturas = [20, 25, 30, 35, 40]"
      ]
    },
    {
      "cell_type": "code",
      "execution_count": null,
      "metadata": {
        "colab": {
          "base_uri": "https://localhost:8080/"
        },
        "id": "XcxP0RHAW4bD",
        "outputId": "84aa34bd-24fa-4b89-ecf6-db5ab3f46eaa"
      },
      "outputs": [
        {
          "name": "stdout",
          "output_type": "stream",
          "text": [
            "Erro: divisão por zero detectada.\n",
            "Erro de valor: As listas devem ter o mesmo tamanho.\n"
          ]
        }
      ],
      "source": [
        "def divide_colunas(pressoes, temperaturas):\n",
        "    try:\n",
        "        if len(pressoes) != len(temperaturas):\n",
        "            raise ValueError(\"As listas devem ter o mesmo tamanho.\")\n",
        "        resultados = [p / t for p, t in zip(pressoes, temperaturas)]\n",
        "        return resultados\n",
        "    except ZeroDivisionError:\n",
        "        print(\"Erro: divisão por zero detectada.\")\n",
        "    except ValueError as e:\n",
        "        print(f\"Erro de valor: {e}\")\n",
        "\n",
        "# Testes:\n",
        "divide_colunas([100, 120, 140, 160, 180], [20, 25, 30, 35, 40])\n",
        "divide_colunas([60, 120, 140, 160, 180], [0, 25, 30, 35, 40])  # ZeroDivisionError\n",
        "divide_colunas([100, 120, 140, 160], [20, 25, 30, 35, 40])  # ValueError\n"
      ]
    }
  ],
  "metadata": {
    "colab": {
      "provenance": []
    },
    "kernelspec": {
      "display_name": "Python 3",
      "name": "python3"
    },
    "language_info": {
      "codemirror_mode": {
        "name": "ipython",
        "version": 3
      },
      "file_extension": ".py",
      "mimetype": "text/x-python",
      "name": "python",
      "nbconvert_exporter": "python",
      "pygments_lexer": "ipython3",
      "version": "3.11.9"
    }
  },
  "nbformat": 4,
  "nbformat_minor": 0
}
